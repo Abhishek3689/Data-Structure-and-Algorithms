{
 "cells": [
  {
   "cell_type": "markdown",
   "id": "3b94010c",
   "metadata": {},
   "source": [
    "## Stack Implementation"
   ]
  },
  {
   "cell_type": "code",
   "execution_count": 1,
   "id": "6700d54d",
   "metadata": {},
   "outputs": [],
   "source": [
    "class Node:\n",
    "    def __init__(self,value):\n",
    "        self.data=value\n",
    "        self.next=None"
   ]
  },
  {
   "cell_type": "code",
   "execution_count": 100,
   "id": "2c1257f8",
   "metadata": {},
   "outputs": [],
   "source": [
    "class Stack:\n",
    "    def __init__(self):\n",
    "        self.top=None\n",
    "        self.n=0\n",
    "        \n",
    "    def __len__(self):\n",
    "        return self.n\n",
    "    \n",
    "    def isempty(self):\n",
    "        return self.top==None\n",
    "            \n",
    "    def push(self,value):\n",
    "        new_node=Node(value)\n",
    "        new_node.next=self.top\n",
    "        self.top=new_node\n",
    "        self.n=self.n+1\n",
    "        \n",
    "    def peek_top(self):\n",
    "        if self.top==None:\n",
    "            return \"Empty stck\"\n",
    "        return self.top.data\n",
    "        \n",
    "    def traverse(self):\n",
    "        res=''\n",
    "        curr=self.top\n",
    "        while(curr!=None):\n",
    "            res=res+str(curr.data)+'->'\n",
    "            curr=curr.next\n",
    "        return res[:-2]\n",
    "    \n",
    "    def pop(self):\n",
    "        if self.top==None:\n",
    "            return \"Empty stack\"\n",
    "        val=self.top.data\n",
    "        self.top=self.top.next\n",
    "        self.n=self.n-1\n",
    "        return val\n",
    "    \n",
    "    def size(self):\n",
    "        return self.n"
   ]
  },
  {
   "cell_type": "code",
   "execution_count": 97,
   "id": "dea5ced2",
   "metadata": {},
   "outputs": [],
   "source": [
    "s=Stack()"
   ]
  },
  {
   "cell_type": "code",
   "execution_count": 98,
   "id": "4f64d311",
   "metadata": {},
   "outputs": [],
   "source": [
    "s.push(3)\n",
    "s.push(4)\n",
    "s.push(5)"
   ]
  },
  {
   "cell_type": "code",
   "execution_count": 99,
   "id": "80ac34c5",
   "metadata": {},
   "outputs": [
    {
     "data": {
      "text/plain": [
       "3"
      ]
     },
     "execution_count": 99,
     "metadata": {},
     "output_type": "execute_result"
    }
   ],
   "source": [
    "s.size()"
   ]
  },
  {
   "cell_type": "code",
   "execution_count": 82,
   "id": "5f021055",
   "metadata": {},
   "outputs": [
    {
     "data": {
      "text/plain": [
       "'5->4->3'"
      ]
     },
     "execution_count": 82,
     "metadata": {},
     "output_type": "execute_result"
    }
   ],
   "source": [
    "s.traverse()"
   ]
  },
  {
   "cell_type": "code",
   "execution_count": 83,
   "id": "d412fbf8",
   "metadata": {},
   "outputs": [
    {
     "data": {
      "text/plain": [
       "3"
      ]
     },
     "execution_count": 83,
     "metadata": {},
     "output_type": "execute_result"
    }
   ],
   "source": [
    "len(s)"
   ]
  },
  {
   "cell_type": "code",
   "execution_count": 84,
   "id": "427f1ccb",
   "metadata": {},
   "outputs": [
    {
     "data": {
      "text/plain": [
       "False"
      ]
     },
     "execution_count": 84,
     "metadata": {},
     "output_type": "execute_result"
    }
   ],
   "source": [
    "s.isempty()"
   ]
  },
  {
   "cell_type": "code",
   "execution_count": 95,
   "id": "7d5f4a14",
   "metadata": {},
   "outputs": [
    {
     "data": {
      "text/plain": [
       "4"
      ]
     },
     "execution_count": 95,
     "metadata": {},
     "output_type": "execute_result"
    }
   ],
   "source": [
    "s.pop()"
   ]
  },
  {
   "cell_type": "code",
   "execution_count": 92,
   "id": "86873471",
   "metadata": {},
   "outputs": [
    {
     "data": {
      "text/plain": [
       "'4->3'"
      ]
     },
     "execution_count": 92,
     "metadata": {},
     "output_type": "execute_result"
    }
   ],
   "source": [
    "s.traverse()"
   ]
  },
  {
   "cell_type": "code",
   "execution_count": 93,
   "id": "58156bac",
   "metadata": {},
   "outputs": [],
   "source": [
    "# s.push(10)"
   ]
  },
  {
   "cell_type": "code",
   "execution_count": 94,
   "id": "e085fb43",
   "metadata": {},
   "outputs": [
    {
     "data": {
      "text/plain": [
       "4"
      ]
     },
     "execution_count": 94,
     "metadata": {},
     "output_type": "execute_result"
    }
   ],
   "source": [
    "s.peek_top()"
   ]
  },
  {
   "cell_type": "markdown",
   "id": "eb75d35e",
   "metadata": {},
   "source": [
    "## Stack Reverse"
   ]
  },
  {
   "cell_type": "code",
   "execution_count": 110,
   "id": "23383596",
   "metadata": {},
   "outputs": [],
   "source": [
    "def reverse_stack(text:str):\n",
    "    s=Stack()\n",
    "    for item in text:\n",
    "        s.push(item)\n",
    "    res=''\n",
    "    curr=s.top\n",
    "    while(not s.isempty()):\n",
    "        res=res+s.pop()\n",
    "    return res\n",
    "        "
   ]
  },
  {
   "cell_type": "code",
   "execution_count": 111,
   "id": "e8cb2061",
   "metadata": {},
   "outputs": [
    {
     "data": {
      "text/plain": [
       "'olleh'"
      ]
     },
     "execution_count": 111,
     "metadata": {},
     "output_type": "execute_result"
    }
   ],
   "source": [
    "reverse_stack('hello')"
   ]
  },
  {
   "cell_type": "markdown",
   "id": "151e8a9d",
   "metadata": {},
   "source": [
    "## Text Editor"
   ]
  },
  {
   "cell_type": "code",
   "execution_count": 122,
   "id": "9affb483",
   "metadata": {},
   "outputs": [],
   "source": [
    "def text_editor(text,editor):\n",
    "    u=Stack()\n",
    "    r=Stack()\n",
    "    for item in text:\n",
    "        u.push(item)\n",
    "    for val in editor:\n",
    "        if val=='u':\n",
    "            r.push(u.pop())\n",
    "        else:\n",
    "            u.push(r.pop())\n",
    "    res=''\n",
    "    while(not u.isempty()):\n",
    "        res=u.pop()+res\n",
    "    return  res"
   ]
  },
  {
   "cell_type": "code",
   "execution_count": 123,
   "id": "90b28166",
   "metadata": {},
   "outputs": [
    {
     "data": {
      "text/plain": [
       "'hel'"
      ]
     },
     "execution_count": 123,
     "metadata": {},
     "output_type": "execute_result"
    }
   ],
   "source": [
    "text_editor('hello','uruu')"
   ]
  },
  {
   "cell_type": "code",
   "execution_count": 114,
   "id": "9daf3ac1",
   "metadata": {},
   "outputs": [],
   "source": [
    "s=Stack()"
   ]
  },
  {
   "cell_type": "code",
   "execution_count": 115,
   "id": "2661d642",
   "metadata": {},
   "outputs": [],
   "source": [
    "s.push('H')\n",
    "s.push('e')"
   ]
  },
  {
   "cell_type": "code",
   "execution_count": 116,
   "id": "dbb40c97",
   "metadata": {},
   "outputs": [
    {
     "data": {
      "text/plain": [
       "'e->H'"
      ]
     },
     "execution_count": 116,
     "metadata": {},
     "output_type": "execute_result"
    }
   ],
   "source": [
    "s.traverse()"
   ]
  },
  {
   "cell_type": "markdown",
   "id": "2a54aeb2",
   "metadata": {},
   "source": [
    "## Check balanced parenthesis"
   ]
  },
  {
   "cell_type": "code",
   "execution_count": null,
   "id": "d79ab1f7",
   "metadata": {},
   "outputs": [],
   "source": [
    "[{[]}]"
   ]
  },
  {
   "cell_type": "code",
   "execution_count": 132,
   "id": "e39ce2e7",
   "metadata": {},
   "outputs": [],
   "source": [
    "## Check balanced parenthesis\n",
    "def valid_pathesis(brackets:str):\n",
    "    s=Stack()\n",
    "    if brackets=='':\n",
    "        return \"Invaid input\"\n",
    "    for item in brackets:\n",
    "        if item=='(':\n",
    "            s.push(item)\n",
    "        elif item=='[':\n",
    "            s.push(item)\n",
    "        elif item=='{':\n",
    "            s.push(item)\n",
    "        elif item==']':\n",
    "            if s.top.data!='[':\n",
    "                return False\n",
    "            else:\n",
    "                s.pop()\n",
    "        elif item==')':\n",
    "            if s.top.data!='(':\n",
    "                return False\n",
    "            else:\n",
    "                s.pop()\n",
    "        elif item=='}':\n",
    "            if s.top.data!='{':\n",
    "                return False\n",
    "            else:\n",
    "                s.pop()\n",
    "    return True"
   ]
  },
  {
   "cell_type": "code",
   "execution_count": 135,
   "id": "ec9dd448",
   "metadata": {},
   "outputs": [
    {
     "data": {
      "text/plain": [
       "True"
      ]
     },
     "execution_count": 135,
     "metadata": {},
     "output_type": "execute_result"
    }
   ],
   "source": [
    "valid_pathesis('{[(a+b) + (c+d)]}')"
   ]
  },
  {
   "cell_type": "code",
   "execution_count": null,
   "id": "6ff8e248",
   "metadata": {},
   "outputs": [],
   "source": []
  }
 ],
 "metadata": {
  "kernelspec": {
   "display_name": "Python 3 (ipykernel)",
   "language": "python",
   "name": "python3"
  },
  "language_info": {
   "codemirror_mode": {
    "name": "ipython",
    "version": 3
   },
   "file_extension": ".py",
   "mimetype": "text/x-python",
   "name": "python",
   "nbconvert_exporter": "python",
   "pygments_lexer": "ipython3",
   "version": "3.9.18"
  }
 },
 "nbformat": 4,
 "nbformat_minor": 5
}
