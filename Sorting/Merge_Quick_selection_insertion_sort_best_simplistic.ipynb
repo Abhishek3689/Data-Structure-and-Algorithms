{
 "cells": [
  {
   "cell_type": "markdown",
   "id": "4027c813",
   "metadata": {},
   "source": [
    "## Bubble sort"
   ]
  },
  {
   "cell_type": "code",
   "execution_count": 6,
   "id": "b7a5b5f1",
   "metadata": {},
   "outputs": [
    {
     "data": {
      "text/plain": [
       "[7, 5, 10, 3, 4, 1]"
      ]
     },
     "execution_count": 6,
     "metadata": {},
     "output_type": "execute_result"
    }
   ],
   "source": [
    "[7,5,10,3,4,1]"
   ]
  },
  {
   "cell_type": "code",
   "execution_count": 10,
   "id": "10bf8675",
   "metadata": {},
   "outputs": [],
   "source": [
    "def bubble_sort(arr:list):\n",
    "    for i in range(len(arr)-1):\n",
    "        for j in range(len(arr)-i-1):\n",
    "            if arr[j]>arr[j+1]:\n",
    "                arr[j],arr[j+1]=arr[j+1],arr[j]\n",
    "        print(f\"Array after {i} iteration: {arr}\")\n",
    "    return arr"
   ]
  },
  {
   "cell_type": "code",
   "execution_count": 11,
   "id": "13e79e6f",
   "metadata": {},
   "outputs": [
    {
     "name": "stdout",
     "output_type": "stream",
     "text": [
      "Array after 0 iteration: [5, 7, 3, 4, 1, 10]\n",
      "Array after 1 iteration: [5, 3, 4, 1, 7, 10]\n",
      "Array after 2 iteration: [3, 4, 1, 5, 7, 10]\n",
      "Array after 3 iteration: [3, 1, 4, 5, 7, 10]\n",
      "Array after 4 iteration: [1, 3, 4, 5, 7, 10]\n"
     ]
    },
    {
     "data": {
      "text/plain": [
       "[1, 3, 4, 5, 7, 10]"
      ]
     },
     "execution_count": 11,
     "metadata": {},
     "output_type": "execute_result"
    }
   ],
   "source": [
    "bubble_sort([7,5,10,3,4,1])"
   ]
  },
  {
   "cell_type": "markdown",
   "id": "9fd4b104",
   "metadata": {},
   "source": [
    "## Selection sort"
   ]
  },
  {
   "cell_type": "code",
   "execution_count": 22,
   "id": "60a9a523",
   "metadata": {},
   "outputs": [
    {
     "data": {
      "text/plain": [
       "[10, 7, 5, 3, 1]"
      ]
     },
     "execution_count": 22,
     "metadata": {},
     "output_type": "execute_result"
    }
   ],
   "source": [
    "[7,5,10,3,4]\n",
    "[10,7,5,3,1]"
   ]
  },
  {
   "cell_type": "code",
   "execution_count": 20,
   "id": "f4cd3f88",
   "metadata": {},
   "outputs": [],
   "source": [
    "def selection_sort(arr:list):\n",
    "#     min_val=arr[0]\n",
    "    for i in range(len(arr)):\n",
    "        idx=i\n",
    "        for j in range(i,len(arr)):\n",
    "            if arr[j]<arr[idx]:\n",
    "                \n",
    "                idx=j\n",
    "        arr[i],arr[idx]=arr[idx],arr[i]\n",
    "        print(f\"Array after {i} iteration: {arr}\")\n",
    "    return arr"
   ]
  },
  {
   "cell_type": "code",
   "execution_count": 24,
   "id": "4287da6f",
   "metadata": {},
   "outputs": [
    {
     "name": "stdout",
     "output_type": "stream",
     "text": [
      "Array after 0 iteration: [1, 11, 5, 3, 10]\n",
      "Array after 1 iteration: [1, 3, 5, 11, 10]\n",
      "Array after 2 iteration: [1, 3, 5, 11, 10]\n",
      "Array after 3 iteration: [1, 3, 5, 10, 11]\n",
      "Array after 4 iteration: [1, 3, 5, 10, 11]\n"
     ]
    },
    {
     "data": {
      "text/plain": [
       "[1, 3, 5, 10, 11]"
      ]
     },
     "execution_count": 24,
     "metadata": {},
     "output_type": "execute_result"
    }
   ],
   "source": [
    "selection_sort([10,11,5,3,1])"
   ]
  },
  {
   "cell_type": "markdown",
   "id": "7c6d36bc",
   "metadata": {},
   "source": [
    "## Insertion sort\n",
    "- [10,11,5,3,1]\n",
    "- [5,10,11,3,1]\n",
    "- [3,5,10,11,1]\n",
    "- [1,2,5,10,11]"
   ]
  },
  {
   "cell_type": "code",
   "execution_count": 28,
   "id": "89c2f673",
   "metadata": {},
   "outputs": [],
   "source": [
    "def insertion_sort(arr:list):\n",
    "    for i in range(1,len(arr)):\n",
    "        key=arr[i]\n",
    "        j=i-1\n",
    "        while(j>=0 and arr[j]>key):\n",
    "            arr[j+1]=arr[j]\n",
    "            j=j-1\n",
    "        arr[j+1]=key \n",
    "        print(f\"Array after {i} iteration: {arr}\")\n",
    "    return arr   "
   ]
  },
  {
   "cell_type": "code",
   "execution_count": 29,
   "id": "747d2a36",
   "metadata": {},
   "outputs": [
    {
     "name": "stdout",
     "output_type": "stream",
     "text": [
      "Array after 1 iteration: [10, 11, 5, 3, 1]\n",
      "Array after 2 iteration: [5, 10, 11, 3, 1]\n",
      "Array after 3 iteration: [3, 5, 10, 11, 1]\n",
      "Array after 4 iteration: [1, 3, 5, 10, 11]\n"
     ]
    },
    {
     "data": {
      "text/plain": [
       "[1, 3, 5, 10, 11]"
      ]
     },
     "execution_count": 29,
     "metadata": {},
     "output_type": "execute_result"
    }
   ],
   "source": [
    "insertion_sort([10,11,5,3,1])"
   ]
  },
  {
   "cell_type": "markdown",
   "id": "2b963a55",
   "metadata": {},
   "source": [
    "## Merge Sort\n",
    "- [45,2,5,10,6]"
   ]
  },
  {
   "cell_type": "code",
   "execution_count": 47,
   "id": "225fc7b3",
   "metadata": {},
   "outputs": [],
   "source": [
    "def merge_sort(arr:list):\n",
    "    if len(arr)==1:\n",
    "        return arr\n",
    "    else:\n",
    "        i=0\n",
    "        j=len(arr)\n",
    "        mid=(i+j)//2\n",
    "        left=merge_sort(arr[:mid])\n",
    "        right=merge_sort(arr[mid:])\n",
    "    return merged(left,right)\n",
    "    \n",
    "def merged(left,right):\n",
    "    merge_new=[]\n",
    "    l=r=0\n",
    "#         r=0\n",
    "    while(l<len(left) and r<len(right)):\n",
    "        if left[l]<right[r]:\n",
    "            merge_new.append(left[l])\n",
    "            l=l+1\n",
    "        else:\n",
    "            merge_new.append(right[r])\n",
    "            r=r+1\n",
    "        \n",
    "\n",
    "    merge_new.extend(left[l:])\n",
    "    merge_new.extend(right[r:])\n",
    "    return merge_new"
   ]
  },
  {
   "cell_type": "code",
   "execution_count": 48,
   "id": "1ce3168d",
   "metadata": {},
   "outputs": [
    {
     "data": {
      "text/plain": [
       "[2, 6, 10, 12]"
      ]
     },
     "execution_count": 48,
     "metadata": {},
     "output_type": "execute_result"
    }
   ],
   "source": [
    "merge_sort([10,6,12,2])"
   ]
  },
  {
   "cell_type": "code",
   "execution_count": 43,
   "id": "823c8220",
   "metadata": {},
   "outputs": [
    {
     "name": "stdout",
     "output_type": "stream",
     "text": [
      "[3, 9, 10, 27, 38, 43, 82]\n"
     ]
    }
   ],
   "source": [
    "def merge_sort(arr):\n",
    "    if len(arr) <= 1:\n",
    "        return arr\n",
    "\n",
    "    mid = len(arr) // 2\n",
    "    left = merge_sort(arr[:mid])\n",
    "    right = merge_sort(arr[mid:])\n",
    "\n",
    "    return merge(left, right)\n",
    "\n",
    "def merge(left, right):\n",
    "    merged = []\n",
    "    i = j = 0\n",
    "\n",
    "    # Merge two sorted lists\n",
    "    while i < len(left) and j < len(right):\n",
    "        if left[i] < right[j]:\n",
    "            merged.append(left[i])\n",
    "            i += 1\n",
    "        else:\n",
    "            merged.append(right[j])\n",
    "            j += 1\n",
    "\n",
    "    # Add remaining elements\n",
    "    merged.extend(left[i:])\n",
    "    merged.extend(right[j:])\n",
    "\n",
    "    return merged\n",
    "\n",
    "# Example\n",
    "print(merge_sort([38, 27, 43, 3, 9, 82, 10]))\n"
   ]
  },
  {
   "cell_type": "markdown",
   "id": "6d3d7f94",
   "metadata": {},
   "source": [
    "## Quick Sort"
   ]
  },
  {
   "cell_type": "code",
   "execution_count": 49,
   "id": "26b08ee3",
   "metadata": {},
   "outputs": [],
   "source": [
    "## fist way"
   ]
  },
  {
   "cell_type": "code",
   "execution_count": 60,
   "id": "c570ebfe",
   "metadata": {},
   "outputs": [],
   "source": [
    "def quick_sort(arr:list):\n",
    "    if len(arr)<=1:\n",
    "        return arr\n",
    "    pivot=arr[-1]\n",
    "    \n",
    "    left=[x for x in arr[:-1] if x<=pivot]\n",
    "    right=[x for x in arr[:-1] if x>pivot]\n",
    "    \n",
    "    return quick_sort(left)+[pivot]+quick_sort(right)"
   ]
  },
  {
   "cell_type": "code",
   "execution_count": 61,
   "id": "b76b1a0c",
   "metadata": {},
   "outputs": [
    {
     "data": {
      "text/plain": [
       "[2, 3, 5, 6, 10]"
      ]
     },
     "execution_count": 61,
     "metadata": {},
     "output_type": "execute_result"
    }
   ],
   "source": [
    "quick_sort([3,10,5,6,2])"
   ]
  },
  {
   "cell_type": "code",
   "execution_count": 4,
   "id": "4cd090dd",
   "metadata": {},
   "outputs": [],
   "source": [
    "def partition(arr, low, high):\n",
    "    pivot = arr[high]\n",
    "    i = low - 1\n",
    "\n",
    "    for j in range(low, high):\n",
    "        if arr[j] <= pivot:\n",
    "            i += 1\n",
    "            arr[i], arr[j] = arr[j], arr[i]\n",
    "\n",
    "    arr[i+1], arr[high] = arr[high], arr[i+1]\n",
    "    return i + 1\n",
    "\n",
    "def quick_sort_inplace(arr, low, high):\n",
    "    if low < high:\n",
    "        pi = partition(arr, low, high)\n",
    "        quick_sort_inplace(arr, low, pi - 1)\n",
    "        quick_sort_inplace(arr, pi + 1, high)\n",
    "    return arr\n"
   ]
  },
  {
   "cell_type": "code",
   "execution_count": 6,
   "id": "4994ed2b",
   "metadata": {},
   "outputs": [
    {
     "data": {
      "text/plain": [
       "[2, 3, 4, 5, 6, 10]"
      ]
     },
     "execution_count": 6,
     "metadata": {},
     "output_type": "execute_result"
    }
   ],
   "source": [
    "quick_sort_inplace([3,10,5,6,2,4],0,5)"
   ]
  },
  {
   "cell_type": "code",
   "execution_count": null,
   "id": "2494edf1",
   "metadata": {},
   "outputs": [],
   "source": []
  }
 ],
 "metadata": {
  "kernelspec": {
   "display_name": "Python 3 (ipykernel)",
   "language": "python",
   "name": "python3"
  },
  "language_info": {
   "codemirror_mode": {
    "name": "ipython",
    "version": 3
   },
   "file_extension": ".py",
   "mimetype": "text/x-python",
   "name": "python",
   "nbconvert_exporter": "python",
   "pygments_lexer": "ipython3",
   "version": "3.9.18"
  }
 },
 "nbformat": 4,
 "nbformat_minor": 5
}
