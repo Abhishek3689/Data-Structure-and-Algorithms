{
 "cells": [
  {
   "cell_type": "markdown",
   "id": "c8202f08",
   "metadata": {},
   "source": [
    "## Print first Natural Numbers"
   ]
  },
  {
   "cell_type": "code",
   "execution_count": 1,
   "id": "b6f16735",
   "metadata": {},
   "outputs": [],
   "source": [
    "def natural_n(n):\n",
    "    if n>0:\n",
    "        natural_n(n-1)\n",
    "        print(n)\n",
    "    "
   ]
  },
  {
   "cell_type": "code",
   "execution_count": 2,
   "id": "e8ae676f",
   "metadata": {},
   "outputs": [],
   "source": [
    "natural_n(5)"
   ]
  },
  {
   "cell_type": "markdown",
   "id": "fd249317",
   "metadata": {},
   "source": [
    "## Print Sum of first Natural Numbers"
   ]
  },
  {
   "cell_type": "code",
   "execution_count": 3,
   "id": "56718b2f",
   "metadata": {},
   "outputs": [],
   "source": [
    "def print_sum(n):\n",
    "    if n==1:\n",
    "        return 1\n",
    "    r=n+print_sum(n-1)\n",
    "    return r"
   ]
  },
  {
   "cell_type": "code",
   "execution_count": 4,
   "id": "abe73291",
   "metadata": {},
   "outputs": [],
   "source": [
    "print_sum(4)"
   ]
  },
  {
   "cell_type": "markdown",
   "id": "1d9096a1",
   "metadata": {},
   "source": [
    "## Reverse Numbers"
   ]
  },
  {
   "cell_type": "code",
   "execution_count": 5,
   "id": "883c4969",
   "metadata": {},
   "outputs": [],
   "source": [
    "def reverse_n(n):\n",
    "    if n>0:\n",
    "        print(n)\n",
    "        reverse_n(n-1)"
   ]
  },
  {
   "cell_type": "code",
   "execution_count": 6,
   "id": "7d97ad31",
   "metadata": {},
   "outputs": [],
   "source": [
    "reverse_n(5)"
   ]
  },
  {
   "cell_type": "markdown",
   "id": "b88356dc",
   "metadata": {},
   "source": [
    "## Print 1st odd number"
   ]
  },
  {
   "cell_type": "code",
   "execution_count": 7,
   "id": "e4266f26",
   "metadata": {},
   "outputs": [],
   "source": [
    "\n",
    "def odd_num(n):\n",
    "    if n>0:\n",
    "        if n%2!=0:\n",
    "            odd_num(n-1)\n",
    "#             print(n)\n",
    "        else:\n",
    "            n=n-1\n",
    "            odd_num(n-1)\n",
    "        print(n)"
   ]
  },
  {
   "cell_type": "code",
   "execution_count": 8,
   "id": "4261edd1",
   "metadata": {},
   "outputs": [],
   "source": [
    "odd_num(12)"
   ]
  },
  {
   "cell_type": "code",
   "execution_count": 9,
   "id": "07e550fa",
   "metadata": {},
   "outputs": [],
   "source": [
    "def odd_n(n):\n",
    "    if n>0:\n",
    "        odd_n(n-1)\n",
    "        print(2*n-1)"
   ]
  },
  {
   "cell_type": "code",
   "execution_count": 10,
   "id": "0758ac3d",
   "metadata": {},
   "outputs": [],
   "source": [
    "odd_n(4)"
   ]
  },
  {
   "cell_type": "markdown",
   "id": "37ffc02b",
   "metadata": {},
   "source": [
    "## First N even Numbers"
   ]
  },
  {
   "cell_type": "code",
   "execution_count": 11,
   "id": "dc246082",
   "metadata": {},
   "outputs": [],
   "source": [
    "def even_n(n):\n",
    "    if n>0:\n",
    "        even_n(n-1)\n",
    "        print(2*n)"
   ]
  },
  {
   "cell_type": "code",
   "execution_count": 12,
   "id": "665fa7b2",
   "metadata": {},
   "outputs": [],
   "source": [
    "even_n(4)"
   ]
  },
  {
   "cell_type": "markdown",
   "id": "39de48af",
   "metadata": {},
   "source": [
    "## Reverse Even"
   ]
  },
  {
   "cell_type": "code",
   "execution_count": 13,
   "id": "1f3b1efd",
   "metadata": {},
   "outputs": [],
   "source": [
    "def reverse_even(n):\n",
    "    if n>0:\n",
    "        print(2*n)\n",
    "        reverse_even(n-1)"
   ]
  },
  {
   "cell_type": "code",
   "execution_count": 14,
   "id": "24bec810",
   "metadata": {},
   "outputs": [],
   "source": [
    "reverse_even(4)"
   ]
  },
  {
   "cell_type": "markdown",
   "id": "1ee1490a",
   "metadata": {},
   "source": [
    "## Print Nth Fibonacci Number"
   ]
  },
  {
   "cell_type": "code",
   "execution_count": 15,
   "id": "f5729aec",
   "metadata": {},
   "outputs": [],
   "source": [
    "def fib_n(n):\n",
    "    if n==1 or n==0:\n",
    "        return n\n",
    "    r=fib_n(n-1)+fib_n(n-2)\n",
    "    return r"
   ]
  },
  {
   "cell_type": "code",
   "execution_count": 16,
   "id": "d19de8d0",
   "metadata": {},
   "outputs": [],
   "source": [
    "fib_n(6)"
   ]
  },
  {
   "cell_type": "markdown",
   "id": "65f5d7a6",
   "metadata": {},
   "source": [
    "## sum of first odd natural num"
   ]
  },
  {
   "cell_type": "code",
   "execution_count": 17,
   "id": "9fed80aa",
   "metadata": {},
   "outputs": [],
   "source": [
    "\n",
    "def sum_of_odd(n):\n",
    "    if n==1:\n",
    "        return 1\n",
    "    s=2*n-1+sum_of_odd(n-1)\n",
    "    return s\n",
    "        "
   ]
  },
  {
   "cell_type": "code",
   "execution_count": 18,
   "id": "733b5495",
   "metadata": {},
   "outputs": [],
   "source": [
    "sum_of_odd(6)"
   ]
  },
  {
   "cell_type": "markdown",
   "id": "c2710885",
   "metadata": {},
   "source": [
    "## Multiplication"
   ]
  },
  {
   "cell_type": "code",
   "execution_count": 19,
   "id": "ce1b8cde",
   "metadata": {},
   "outputs": [],
   "source": [
    "def mul_n(a,b):\n",
    "    if b==1:\n",
    "        return a\n",
    "    else:\n",
    "        return a+mul_n(a,b-1)"
   ]
  },
  {
   "cell_type": "code",
   "execution_count": 20,
   "id": "1467eef8",
   "metadata": {},
   "outputs": [],
   "source": [
    "mul_n(5,5)"
   ]
  },
  {
   "cell_type": "code",
   "execution_count": 21,
   "id": "f2609c5b",
   "metadata": {},
   "outputs": [],
   "source": [
    "def nat_n(n):\n",
    "    if n<1:\n",
    "        return False\n",
    "    if n==1:\n",
    "        print(n)\n",
    "    else:\n",
    "        nat_n(n-1)\n",
    "        print(n)"
   ]
  },
  {
   "cell_type": "code",
   "execution_count": 22,
   "id": "14af813c",
   "metadata": {},
   "outputs": [],
   "source": [
    "nat_n(5)"
   ]
  },
  {
   "cell_type": "markdown",
   "id": "c5a5c1bc",
   "metadata": {},
   "source": [
    "## Practice"
   ]
  },
  {
   "cell_type": "code",
   "execution_count": 23,
   "id": "aca40a97",
   "metadata": {},
   "outputs": [],
   "source": [
    "## print first n natural number"
   ]
  },
  {
   "cell_type": "code",
   "execution_count": 24,
   "id": "708d3c30",
   "metadata": {},
   "outputs": [],
   "source": [
    "def first_n(n):\n",
    "    if n==0:\n",
    "        return\n",
    "    first_n(n-1)\n",
    "    print(n)"
   ]
  },
  {
   "cell_type": "code",
   "execution_count": 25,
   "id": "09974b12",
   "metadata": {},
   "outputs": [],
   "source": [
    "first_n(5)"
   ]
  },
  {
   "cell_type": "code",
   "execution_count": 26,
   "id": "5e1c15d6",
   "metadata": {},
   "outputs": [],
   "source": [
    "def first_reverse_n(n):\n",
    "    if n==0:\n",
    "        return\n",
    "    print(n)\n",
    "    first_reverse_n(n-1)"
   ]
  },
  {
   "cell_type": "code",
   "execution_count": 27,
   "id": "27a2d0c7",
   "metadata": {},
   "outputs": [],
   "source": [
    "first_reverse_n(5)"
   ]
  },
  {
   "cell_type": "code",
   "execution_count": 28,
   "id": "e7b4bb65",
   "metadata": {},
   "outputs": [],
   "source": [
    "def first_n_odd(n):\n",
    "    if n==0:\n",
    "        return\n",
    "    first_n_odd(n-1)\n",
    "    print(2*n-1)"
   ]
  },
  {
   "cell_type": "code",
   "execution_count": 29,
   "id": "3e0dc924",
   "metadata": {},
   "outputs": [],
   "source": [
    "first_n_odd(5)"
   ]
  },
  {
   "cell_type": "code",
   "execution_count": 30,
   "id": "935b476e",
   "metadata": {},
   "outputs": [],
   "source": [
    "def first_n_even(n):\n",
    "    if n>0:\n",
    "        first_n_even(n-1)\n",
    "        print(2*n)"
   ]
  },
  {
   "cell_type": "code",
   "execution_count": 31,
   "id": "364c4ac7",
   "metadata": {},
   "outputs": [],
   "source": [
    "first_n_even(5)"
   ]
  },
  {
   "cell_type": "code",
   "execution_count": 32,
   "id": "91212c34",
   "metadata": {},
   "outputs": [],
   "source": [
    "def first_odd_reverse(n):\n",
    "    if n>0:\n",
    "        print(2*n-1)\n",
    "        first_odd_reverse(n-1)\n",
    "        "
   ]
  },
  {
   "cell_type": "code",
   "execution_count": 33,
   "id": "61cf7153",
   "metadata": {},
   "outputs": [],
   "source": [
    "first_odd_reverse(5)"
   ]
  },
  {
   "cell_type": "code",
   "execution_count": 34,
   "id": "fccd5150",
   "metadata": {},
   "outputs": [],
   "source": [
    "def first_even_reverse(n):\n",
    "    if n>0:\n",
    "        print(2*n)\n",
    "        first_even_reverse(n-1)"
   ]
  },
  {
   "cell_type": "code",
   "execution_count": 35,
   "id": "7a2ab0b0",
   "metadata": {},
   "outputs": [],
   "source": [
    "first_even_reverse(5)"
   ]
  },
  {
   "cell_type": "code",
   "execution_count": 36,
   "id": "1847374f",
   "metadata": {},
   "outputs": [],
   "source": [
    "## sum of n natural number"
   ]
  },
  {
   "cell_type": "code",
   "execution_count": 37,
   "id": "216cc8e2",
   "metadata": {},
   "outputs": [],
   "source": [
    "def sum_first_n(n):\n",
    "    if n==1:\n",
    "        return 1\n",
    "    res=n+sum_first_n(n-1)\n",
    "    return res"
   ]
  },
  {
   "cell_type": "code",
   "execution_count": 38,
   "id": "88e1230e",
   "metadata": {},
   "outputs": [],
   "source": [
    "sum_first_n(4)"
   ]
  },
  {
   "cell_type": "code",
   "execution_count": 39,
   "id": "5129eaf2",
   "metadata": {},
   "outputs": [],
   "source": [
    "def sum_of_first_n_odd(n):\n",
    "    if n==1:\n",
    "        return 1\n",
    "    res=2*n-1+sum_of_first_n_odd(n-1)\n",
    "    return res"
   ]
  },
  {
   "cell_type": "code",
   "execution_count": 40,
   "id": "3f548a86",
   "metadata": {},
   "outputs": [],
   "source": [
    "sum_of_first_n_odd(6)"
   ]
  },
  {
   "cell_type": "markdown",
   "id": "7dd463d6",
   "metadata": {},
   "source": [
    "## Reverse Array"
   ]
  },
  {
   "cell_type": "code",
   "execution_count": 41,
   "id": "c27326d0",
   "metadata": {},
   "outputs": [],
   "source": [
    "def reverese_arr(arr,i=0):\n",
    "    n=len(arr)\n",
    "    if i>=n//2:\n",
    "        return\n",
    "    arr[i],arr[n-i-1]=arr[n-i-1],arr[i]\n",
    "    reverese_arr(arr,i+1)\n",
    "    return arr"
   ]
  },
  {
   "cell_type": "code",
   "execution_count": 42,
   "id": "8143c2db",
   "metadata": {},
   "outputs": [],
   "source": [
    "reverese_arr([1,2,3,4,5])"
   ]
  },
  {
   "cell_type": "markdown",
   "id": "2b886f65",
   "metadata": {},
   "source": [
    "## Pallindrome"
   ]
  },
  {
   "cell_type": "code",
   "execution_count": 43,
   "id": "127911b0",
   "metadata": {},
   "outputs": [],
   "source": [
    "def pallindrome(s1:str,i=0):\n",
    "    n=len(s1)\n",
    "    if i>=n-i-1:\n",
    "        return True\n",
    "    if s1[i]!=s1[n-i-1]:\n",
    "        return False\n",
    "    return pallindrome(s1,i+1)\n",
    "    "
   ]
  },
  {
   "cell_type": "code",
   "execution_count": 44,
   "id": "678b89af",
   "metadata": {},
   "outputs": [],
   "source": [
    "pallindrome('madaam',0)"
   ]
  },
  {
   "cell_type": "code",
   "execution_count": null,
   "id": "9e0af245",
   "metadata": {},
   "outputs": [],
   "source": []
  }
 ],
 "metadata": {
  "kernelspec": {
   "display_name": "Python 3 (ipykernel)",
   "language": "python",
   "name": "python3"
  },
  "language_info": {
   "codemirror_mode": {
    "name": "ipython",
    "version": 3
   },
   "file_extension": ".py",
   "mimetype": "text/x-python",
   "name": "python",
   "nbconvert_exporter": "python",
   "pygments_lexer": "ipython3",
   "version": "3.9.18"
  }
 },
 "nbformat": 4,
 "nbformat_minor": 5
}
