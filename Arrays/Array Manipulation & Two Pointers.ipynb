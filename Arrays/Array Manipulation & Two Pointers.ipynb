{
 "cells": [
  {
   "cell_type": "markdown",
   "id": "2fd0bdf1",
   "metadata": {},
   "source": [
    "## Remove Duplicates from Sorted Array"
   ]
  },
  {
   "cell_type": "code",
   "execution_count": 1,
   "id": "c24d04ab",
   "metadata": {},
   "outputs": [],
   "source": [
    "from typing import List"
   ]
  },
  {
   "cell_type": "code",
   "execution_count": null,
   "id": "ea2611ca",
   "metadata": {},
   "outputs": [],
   "source": [
    "[0,0,1,1,1,2,2,3,3,4]\n",
    "[0,1,1,1,1,2,2,3,3,4]"
   ]
  },
  {
   "cell_type": "code",
   "execution_count": 12,
   "id": "7d6cb973",
   "metadata": {},
   "outputs": [],
   "source": [
    "def remove_duplicates(arr:List[int]):\n",
    "    anchor=1\n",
    "    for i in range(1,len(arr)):\n",
    "        if arr[i]!=arr[i-1]:\n",
    "            arr[anchor]=arr[i]\n",
    "            anchor=anchor+1\n",
    "    return arr,anchor"
   ]
  },
  {
   "cell_type": "code",
   "execution_count": 13,
   "id": "7376950e",
   "metadata": {},
   "outputs": [
    {
     "data": {
      "text/plain": [
       "([0, 1, 2, 3, 4, 2, 2, 3, 3, 4], 5)"
      ]
     },
     "execution_count": 13,
     "metadata": {},
     "output_type": "execute_result"
    }
   ],
   "source": [
    "remove_duplicates([0,0,1,1,1,2,2,3,3,4])"
   ]
  },
  {
   "cell_type": "code",
   "execution_count": 14,
   "id": "db8c244c",
   "metadata": {},
   "outputs": [
    {
     "data": {
      "text/plain": [
       "([1, 2, 2], 2)"
      ]
     },
     "execution_count": 14,
     "metadata": {},
     "output_type": "execute_result"
    }
   ],
   "source": [
    "remove_duplicates([1,1,2])"
   ]
  },
  {
   "cell_type": "markdown",
   "id": "67df08e8",
   "metadata": {},
   "source": [
    "## Move zeroes to end"
   ]
  },
  {
   "cell_type": "markdown",
   "id": "a17ffc01",
   "metadata": {},
   "source": [
    "- Input: nums = [0,1,0,3,12]\n",
    "- Output: [1,3,12,0,0]"
   ]
  },
  {
   "cell_type": "code",
   "execution_count": null,
   "id": "1a213a91",
   "metadata": {},
   "outputs": [],
   "source": [
    "[0,0,1,2,0,3]"
   ]
  },
  {
   "cell_type": "code",
   "execution_count": null,
   "id": "5e4be408",
   "metadata": {},
   "outputs": [],
   "source": [
    "## First "
   ]
  },
  {
   "cell_type": "code",
   "execution_count": 15,
   "id": "27ed691d",
   "metadata": {},
   "outputs": [],
   "source": [
    "def move_zeros(arr:List[int]):\n",
    "    # find he first zero element index\n",
    "    for i in range(len(arr)):\n",
    "        if arr[i]==0:\n",
    "            j=i\n",
    "            break\n",
    "    ## if no zeros return arr\n",
    "    if j==-1:\n",
    "        return arr\n",
    "    # shift zeros to end\n",
    "    for i in range(j+1,len(arr)):\n",
    "        if arr[i]!=0:\n",
    "            arr[j],arr[i]=arr[i],arr[j]\n",
    "            j+=1\n",
    "    return arr\n",
    "                "
   ]
  },
  {
   "cell_type": "code",
   "execution_count": 17,
   "id": "f39318b3",
   "metadata": {},
   "outputs": [
    {
     "data": {
      "text/plain": [
       "[1, 2, 3, 12, 0, 0]"
      ]
     },
     "execution_count": 17,
     "metadata": {},
     "output_type": "execute_result"
    }
   ],
   "source": [
    "move_zeros([0,1,2,0,3,12])"
   ]
  },
  {
   "cell_type": "markdown",
   "id": "9f0a08f5",
   "metadata": {},
   "source": [
    "## Arrange 0,1,2 in sorting order or Sort Colors \n",
    "- Input: nums = [2,0,2,1,1,0]\n",
    "- Output: [0,0,1,1,2,2]"
   ]
  },
  {
   "cell_type": "code",
   "execution_count": 6,
   "id": "95b25f5a",
   "metadata": {},
   "outputs": [],
   "source": [
    "def sort_color(nums:List[int]):\n",
    "    low=mid=0\n",
    "    high=len(nums)-1\n",
    "    while(mid<=high):\n",
    "        if nums[mid]==0:\n",
    "            nums[mid],nums[low]=nums[low],nums[mid]\n",
    "            low+=1\n",
    "            mid+=1\n",
    "\n",
    "        elif nums[mid]==1:\n",
    "            mid+=1\n",
    "        else:\n",
    "            nums[mid],nums[high]=nums[high],nums[mid]\n",
    "            high-=1\n",
    "    return nums"
   ]
  },
  {
   "cell_type": "code",
   "execution_count": 7,
   "id": "982156d1",
   "metadata": {},
   "outputs": [
    {
     "data": {
      "text/plain": [
       "[0, 0, 1, 1, 2, 2]"
      ]
     },
     "execution_count": 7,
     "metadata": {},
     "output_type": "execute_result"
    }
   ],
   "source": [
    "sort_color([2,0,2,1,1,0])"
   ]
  },
  {
   "cell_type": "code",
   "execution_count": null,
   "id": "8095c5d9",
   "metadata": {},
   "outputs": [],
   "source": []
  }
 ],
 "metadata": {
  "kernelspec": {
   "display_name": "Python 3 (ipykernel)",
   "language": "python",
   "name": "python3"
  },
  "language_info": {
   "codemirror_mode": {
    "name": "ipython",
    "version": 3
   },
   "file_extension": ".py",
   "mimetype": "text/x-python",
   "name": "python",
   "nbconvert_exporter": "python",
   "pygments_lexer": "ipython3",
   "version": "3.9.18"
  }
 },
 "nbformat": 4,
 "nbformat_minor": 5
}
