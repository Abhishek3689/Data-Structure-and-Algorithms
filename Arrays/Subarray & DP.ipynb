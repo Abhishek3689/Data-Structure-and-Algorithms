{
 "cells": [
  {
   "cell_type": "markdown",
   "id": "1e174ade",
   "metadata": {},
   "source": [
    "## Maximum Product Subarray"
   ]
  },
  {
   "cell_type": "markdown",
   "id": "c466f169",
   "metadata": {},
   "source": [
    "- Input: nums = [2,3,-2,4]\n",
    "- Output: 6\n",
    "\n",
    "- Input: nums = [-2,0,-1]\n",
    "- Output: 0"
   ]
  },
  {
   "cell_type": "code",
   "execution_count": 1,
   "id": "1ea69f74",
   "metadata": {},
   "outputs": [],
   "source": [
    "from typing import List"
   ]
  },
  {
   "cell_type": "code",
   "execution_count": 2,
   "id": "b6117e5a",
   "metadata": {},
   "outputs": [],
   "source": [
    "def max_product(nums:List[int]):\n",
    "    n=len(nums)\n",
    "    prefix_prod=1\n",
    "    suffix_prod=1\n",
    "\n",
    "    max_prod=nums[0]\n",
    "    for i in range(n):\n",
    "        prefix_prod=prefix_prod*nums[i]\n",
    "        suffix_prod=suffix_prod*nums[n-i-1]\n",
    "        max_prod=max(max_prod,max(prefix_prod,suffix_prod))\n",
    "        if suffix_prod==0:\n",
    "            suffix_prod=1\n",
    "        if prefix_prod==0:\n",
    "            prefix_prod=1\n",
    "    return max_prod"
   ]
  },
  {
   "cell_type": "code",
   "execution_count": 5,
   "id": "ccc9ad7b",
   "metadata": {},
   "outputs": [
    {
     "data": {
      "text/plain": [
       "12"
      ]
     },
     "execution_count": 5,
     "metadata": {},
     "output_type": "execute_result"
    }
   ],
   "source": [
    "max_product([2,3,-2,4,3])"
   ]
  },
  {
   "cell_type": "markdown",
   "id": "0573a396",
   "metadata": {},
   "source": [
    "## Maximum Sum Subarray"
   ]
  },
  {
   "cell_type": "markdown",
   "id": "2023bbc2",
   "metadata": {},
   "source": [
    "- Input: nums = [-2,1,-3,4,-1,2,1,-5,4]\n",
    "- Output: 6\n",
    "- Explanation: The subarray [4,-1,2,1] has the largest sum 6."
   ]
  },
  {
   "cell_type": "code",
   "execution_count": 32,
   "id": "5dacf460",
   "metadata": {},
   "outputs": [],
   "source": [
    "def Maximum_sum_subarray(nums:List[int]):\n",
    "    if len(nums)==1:\n",
    "        return nums[0]\n",
    "    curr_sum=nums[0]\n",
    "    max_sum=nums[0]\n",
    "    n=len(nums)\n",
    "    for i in range(1,len(nums)):\n",
    "            if curr_sum<0:\n",
    "                curr_sum=0\n",
    "            curr_sum=curr_sum+nums[i]\n",
    "            if curr_sum>max_sum:\n",
    "                max_sum=curr_sum\n",
    "        \n",
    "    return max_sum"
   ]
  },
  {
   "cell_type": "code",
   "execution_count": 33,
   "id": "62893258",
   "metadata": {},
   "outputs": [],
   "source": [
    "arr=[-1,3,2,4,-4,-6,4,2,1,-3]"
   ]
  },
  {
   "cell_type": "code",
   "execution_count": 34,
   "id": "674cb4c4",
   "metadata": {},
   "outputs": [
    {
     "data": {
      "text/plain": [
       "9"
      ]
     },
     "execution_count": 34,
     "metadata": {},
     "output_type": "execute_result"
    }
   ],
   "source": [
    "Maximum_sum_subarray(arr)"
   ]
  },
  {
   "cell_type": "code",
   "execution_count": 40,
   "id": "3ac00551",
   "metadata": {},
   "outputs": [
    {
     "data": {
      "text/plain": [
       "-1"
      ]
     },
     "execution_count": 40,
     "metadata": {},
     "output_type": "execute_result"
    }
   ],
   "source": [
    "Maximum_sum_subarray([-2,-3,-1])"
   ]
  },
  {
   "cell_type": "markdown",
   "id": "7541524b",
   "metadata": {},
   "source": [
    "## Minimum Size Subarray Sum"
   ]
  },
  {
   "cell_type": "markdown",
   "id": "11addc06",
   "metadata": {},
   "source": [
    "- Input: target = 7, nums = [2,3,1,2,4,3]\n",
    "- Output: 2\n",
    "- Explanation: The subarray [4,3] has the minimal length under the problem constraint"
   ]
  },
  {
   "cell_type": "code",
   "execution_count": 50,
   "id": "dfcf6888",
   "metadata": {},
   "outputs": [],
   "source": [
    "def Minimum_subarray_sum(nums:List[int],target:int):\n",
    "    left=0\n",
    "    min_len=len(nums)+1\n",
    "    n=len(nums)\n",
    "    curr_sum=0\n",
    "    for right in range(n):\n",
    "        curr_sum=curr_sum+nums[right]\n",
    "\n",
    "        while(curr_sum>=target):\n",
    "            min_len=min(right-left+1,min_len)\n",
    "            curr_sum=curr_sum-nums[left]\n",
    "            left+=1\n",
    "    if min_len==len(nums)+1:\n",
    "        return 0\n",
    "    return min_len\n",
    "    "
   ]
  },
  {
   "cell_type": "code",
   "execution_count": 51,
   "id": "494db6c2",
   "metadata": {},
   "outputs": [
    {
     "data": {
      "text/plain": [
       "2"
      ]
     },
     "execution_count": 51,
     "metadata": {},
     "output_type": "execute_result"
    }
   ],
   "source": [
    "Minimum_subarray_sum([2,3,1,2,4,3],7)"
   ]
  },
  {
   "cell_type": "code",
   "execution_count": 57,
   "id": "a929d2ce",
   "metadata": {},
   "outputs": [
    {
     "data": {
      "text/plain": [
       "1"
      ]
     },
     "execution_count": 57,
     "metadata": {},
     "output_type": "execute_result"
    }
   ],
   "source": [
    "Minimum_subarray_sum([1,4,4],1)"
   ]
  },
  {
   "cell_type": "code",
   "execution_count": null,
   "id": "73786333",
   "metadata": {},
   "outputs": [],
   "source": []
  }
 ],
 "metadata": {
  "kernelspec": {
   "display_name": "Python 3 (ipykernel)",
   "language": "python",
   "name": "python3"
  },
  "language_info": {
   "codemirror_mode": {
    "name": "ipython",
    "version": 3
   },
   "file_extension": ".py",
   "mimetype": "text/x-python",
   "name": "python",
   "nbconvert_exporter": "python",
   "pygments_lexer": "ipython3",
   "version": "3.9.18"
  }
 },
 "nbformat": 4,
 "nbformat_minor": 5
}
