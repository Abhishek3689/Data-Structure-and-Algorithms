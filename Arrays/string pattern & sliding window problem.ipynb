{
 "cells": [
  {
   "cell_type": "code",
   "execution_count": 1,
   "id": "9ae2b948",
   "metadata": {},
   "outputs": [
    {
     "name": "stderr",
     "output_type": "stream",
     "text": [
      "C:\\Users\\sanga\\anaconda3\\lib\\site-packages\\pandas\\core\\arrays\\masked.py:61: UserWarning: Pandas requires version '1.3.6' or newer of 'bottleneck' (version '1.3.5' currently installed).\n",
      "  from pandas.core import (\n"
     ]
    }
   ],
   "source": [
    "import pandas as pd\n",
    "import numpy as np"
   ]
  },
  {
   "cell_type": "code",
   "execution_count": 2,
   "id": "6367463c",
   "metadata": {},
   "outputs": [],
   "source": [
    "def reverse_string(s):\n",
    "    new_s=''\n",
    "    for char in s:\n",
    "        new_s=char+new_s\n",
    "    return new_s"
   ]
  },
  {
   "cell_type": "code",
   "execution_count": 3,
   "id": "0e9bf6a0",
   "metadata": {},
   "outputs": [
    {
     "data": {
      "text/plain": [
       "'olleh'"
      ]
     },
     "execution_count": 3,
     "metadata": {},
     "output_type": "execute_result"
    }
   ],
   "source": [
    "reverse_string('hello')"
   ]
  },
  {
   "cell_type": "markdown",
   "id": "5e2b54f7",
   "metadata": {},
   "source": [
    "## find longest continuos  subarray"
   ]
  },
  {
   "cell_type": "code",
   "execution_count": 8,
   "id": "0cf69c31",
   "metadata": {},
   "outputs": [
    {
     "data": {
      "text/plain": [
       "[1, 7, 1, 2, 3]"
      ]
     },
     "execution_count": 8,
     "metadata": {},
     "output_type": "execute_result"
    }
   ],
   "source": [
    "[1,7,1,2,3]"
   ]
  },
  {
   "cell_type": "code",
   "execution_count": 9,
   "id": "c28d3c50",
   "metadata": {},
   "outputs": [],
   "source": [
    "def long_cont_arr(arr:list):\n",
    "    res=0\n",
    "    anchor=0\n",
    "    for i in range(len(arr)):\n",
    "        if i>0 and arr[i]<arr[i-1]:\n",
    "            anchor=i\n",
    "        res=max(res,i-anchor+1)\n",
    "    return res"
   ]
  },
  {
   "cell_type": "code",
   "execution_count": 13,
   "id": "d4da29a6",
   "metadata": {},
   "outputs": [
    {
     "data": {
      "text/plain": [
       "5"
      ]
     },
     "execution_count": 13,
     "metadata": {},
     "output_type": "execute_result"
    }
   ],
   "source": [
    "long_cont_arr([1,7,13,14,1,2,3,4,5,4,3,2,1])"
   ]
  },
  {
   "cell_type": "code",
   "execution_count": 1,
   "id": "ba6f9c44",
   "metadata": {},
   "outputs": [],
   "source": [
    "def long_cont_arr(arr:list):\n",
    "    res=0\n",
    "    anchor=0\n",
    "    for i in range(1,len(arr)):\n",
    "        if arr[i]<=arr[i-1]:\n",
    "            anchor=i\n",
    "        res=max(res,i-anchor+1)\n",
    "    return res"
   ]
  },
  {
   "cell_type": "code",
   "execution_count": 2,
   "id": "404f58a5",
   "metadata": {},
   "outputs": [
    {
     "data": {
      "text/plain": [
       "5"
      ]
     },
     "execution_count": 2,
     "metadata": {},
     "output_type": "execute_result"
    }
   ],
   "source": [
    "long_cont_arr([1,7,13,14,1,2,3,4,5,4,3,2,1])"
   ]
  },
  {
   "cell_type": "code",
   "execution_count": 15,
   "id": "f2648bc9",
   "metadata": {},
   "outputs": [
    {
     "data": {
      "text/plain": [
       "[2, -3, 4, 5]"
      ]
     },
     "execution_count": 15,
     "metadata": {},
     "output_type": "execute_result"
    }
   ],
   "source": [
    "[2,-3,4,5]"
   ]
  },
  {
   "cell_type": "markdown",
   "id": "08e3c925",
   "metadata": {},
   "source": [
    "## find largest sum subarray"
   ]
  },
  {
   "cell_type": "code",
   "execution_count": 16,
   "id": "38b71d83",
   "metadata": {},
   "outputs": [],
   "source": [
    "def largest_sum_arr(arr:list):\n",
    "    max_sum=0\n",
    "    curr_sum=0\n",
    "    for num in arr:\n",
    "        curr_sum=max(num,num+curr_sum)\n",
    "        max_sum=max(max_sum,curr_sum)\n",
    "    return max_sum"
   ]
  },
  {
   "cell_type": "code",
   "execution_count": 19,
   "id": "fafacd54",
   "metadata": {},
   "outputs": [
    {
     "data": {
      "text/plain": [
       "15"
      ]
     },
     "execution_count": 19,
     "metadata": {},
     "output_type": "execute_result"
    }
   ],
   "source": [
    "largest_sum_arr([2,-3,4,5,-1,7])"
   ]
  },
  {
   "cell_type": "markdown",
   "id": "e458169c",
   "metadata": {},
   "source": [
    "## valid parenthesis"
   ]
  },
  {
   "cell_type": "code",
   "execution_count": null,
   "id": "61465ecb",
   "metadata": {},
   "outputs": [],
   "source": [
    "[[()]]"
   ]
  },
  {
   "cell_type": "code",
   "execution_count": 30,
   "id": "4de418a9",
   "metadata": {},
   "outputs": [],
   "source": [
    "def val_parenthesis(s:str):\n",
    "    b_arr=[]\n",
    "    d1={']':'[','}':'{',')':'('}\n",
    "    \n",
    "    for char in s:\n",
    "        if char in d1 and b_arr:\n",
    "            if d1[char]==b_arr[-1]:\n",
    "                b_arr.pop()\n",
    "            else:\n",
    "                return False\n",
    "        else:\n",
    "            b_arr.append(char)\n",
    "        print(b_arr)\n",
    "    return not b_arr\n",
    "        \n",
    "            "
   ]
  },
  {
   "cell_type": "code",
   "execution_count": 32,
   "id": "bffb7534",
   "metadata": {},
   "outputs": [
    {
     "name": "stdout",
     "output_type": "stream",
     "text": [
      "['[']\n",
      "['[', '{']\n",
      "['[', '{', '[']\n",
      "['[', '{']\n",
      "['[']\n",
      "[]\n"
     ]
    },
    {
     "data": {
      "text/plain": [
       "True"
      ]
     },
     "execution_count": 32,
     "metadata": {},
     "output_type": "execute_result"
    }
   ],
   "source": [
    "val_parenthesis(')"
   ]
  },
  {
   "cell_type": "code",
   "execution_count": 21,
   "id": "8c904e8a",
   "metadata": {},
   "outputs": [],
   "source": [
    "t1=(1,2,3)"
   ]
  },
  {
   "cell_type": "markdown",
   "id": "b0555fe1",
   "metadata": {},
   "source": [
    "## find the smallest substring from a string with pattern"
   ]
  },
  {
   "cell_type": "code",
   "execution_count": 3,
   "id": "9838b47a",
   "metadata": {},
   "outputs": [],
   "source": [
    "def find_minimum_string_length(s1:str,pattern):\n",
    "    length=0\n",
    "    min_length=len(s1)+1\n",
    "    low=high=0\n",
    "    new_s=''\n",
    "    for high in range(len(s1)):\n",
    "        new_s=new_s+s1[high]\n",
    "        i=0\n",
    "        while all(ch in new_s for ch in pattern):\n",
    "            \n",
    "            length=high-low+1\n",
    "            min_length=min(length,min_length)\n",
    "            low=low+1\n",
    "            print(f\"{i}_iteration: new_string :{new_s} ---->high:{high}---->low:{low}---->length :{length}----> min length :{min_length}\")\n",
    "            new_s=new_s[1:]\n",
    "            \n",
    "            i=i+1\n",
    "        high=high+1\n",
    "    return min_length\n",
    "        "
   ]
  },
  {
   "cell_type": "code",
   "execution_count": 4,
   "id": "b85b7411",
   "metadata": {},
   "outputs": [],
   "source": [
    "str_1='Then recursion returns to the previous stack frame,'"
   ]
  },
  {
   "cell_type": "code",
   "execution_count": 5,
   "id": "36faacec",
   "metadata": {},
   "outputs": [
    {
     "name": "stdout",
     "output_type": "stream",
     "text": [
      "0_iteration: new_string :Then recursion ret ---->high:17---->low:1---->length :18----> min length :18\n",
      "1_iteration: new_string :hen recursion ret ---->high:17---->low:2---->length :17----> min length :17\n",
      "2_iteration: new_string :en recursion ret ---->high:17---->low:3---->length :16----> min length :16\n",
      "3_iteration: new_string :n recursion ret ---->high:17---->low:4---->length :15----> min length :15\n",
      "4_iteration: new_string : recursion ret ---->high:17---->low:5---->length :14----> min length :14\n",
      "5_iteration: new_string :recursion ret ---->high:17---->low:6---->length :13----> min length :13\n",
      "6_iteration: new_string :ecursion ret ---->high:17---->low:7---->length :12----> min length :12\n",
      "7_iteration: new_string :cursion ret ---->high:17---->low:8---->length :11----> min length :11\n",
      "8_iteration: new_string :ursion ret ---->high:17---->low:9---->length :10----> min length :10\n",
      "9_iteration: new_string :rsion ret ---->high:17---->low:10---->length :9----> min length :9\n",
      "10_iteration: new_string :sion ret ---->high:17---->low:11---->length :8----> min length :8\n",
      "11_iteration: new_string :ion ret ---->high:17---->low:12---->length :7----> min length :7\n",
      "12_iteration: new_string :on ret ---->high:17---->low:13---->length :6----> min length :6\n",
      "0_iteration: new_string :n returns to ---->high:24---->low:14---->length :12----> min length :6\n",
      "1_iteration: new_string : returns to ---->high:24---->low:15---->length :11----> min length :6\n",
      "2_iteration: new_string :returns to ---->high:24---->low:16---->length :10----> min length :6\n",
      "3_iteration: new_string :eturns to ---->high:24---->low:17---->length :9----> min length :6\n",
      "4_iteration: new_string :turns to ---->high:24---->low:18---->length :8----> min length :6\n",
      "5_iteration: new_string :urns to ---->high:24---->low:19---->length :7----> min length :6\n",
      "6_iteration: new_string :rns to ---->high:24---->low:20---->length :6----> min length :6\n",
      "0_iteration: new_string :ns to the pr ---->high:31---->low:21---->length :12----> min length :6\n",
      "1_iteration: new_string :s to the pr ---->high:31---->low:22---->length :11----> min length :6\n",
      "2_iteration: new_string : to the pr ---->high:31---->low:23---->length :10----> min length :6\n",
      "3_iteration: new_string :to the pr ---->high:31---->low:24---->length :9----> min length :6\n",
      "4_iteration: new_string :o the pr ---->high:31---->low:25---->length :8----> min length :6\n",
      "0_iteration: new_string : the previo ---->high:35---->low:26---->length :11----> min length :6\n",
      "1_iteration: new_string :the previo ---->high:35---->low:27---->length :10----> min length :6\n",
      "0_iteration: new_string :he previous st ---->high:40---->low:28---->length :14----> min length :6\n",
      "1_iteration: new_string :e previous st ---->high:40---->low:29---->length :13----> min length :6\n",
      "2_iteration: new_string : previous st ---->high:40---->low:30---->length :12----> min length :6\n",
      "3_iteration: new_string :previous st ---->high:40---->low:31---->length :11----> min length :6\n",
      "4_iteration: new_string :revious st ---->high:40---->low:32---->length :10----> min length :6\n",
      "0_iteration: new_string :evious stack fr ---->high:46---->low:33---->length :15----> min length :6\n",
      "1_iteration: new_string :vious stack fr ---->high:46---->low:34---->length :14----> min length :6\n",
      "2_iteration: new_string :ious stack fr ---->high:46---->low:35---->length :13----> min length :6\n",
      "3_iteration: new_string :ous stack fr ---->high:46---->low:36---->length :12----> min length :6\n"
     ]
    },
    {
     "data": {
      "text/plain": [
       "6"
      ]
     },
     "execution_count": 5,
     "metadata": {},
     "output_type": "execute_result"
    }
   ],
   "source": [
    "find_minimum_string_length(str_1,pattern='tor')"
   ]
  },
  {
   "cell_type": "markdown",
   "id": "2f070591",
   "metadata": {},
   "source": [
    " ## Minimum Window Substring"
   ]
  },
  {
   "cell_type": "code",
   "execution_count": 8,
   "id": "880ac0cc",
   "metadata": {},
   "outputs": [],
   "source": [
    "from collections import Counter\n",
    "\n",
    "def min_window(s: str, t: str) -> str:\n",
    "    if not s or not t:\n",
    "        return \"\"\n",
    "    \n",
    "    t_count = Counter(t)   # frequency of required characters\n",
    "    min_len = len(s) + 1\n",
    "    result = \"\"\n",
    "    \n",
    "    low = high = 0\n",
    "    new_s = \"\"\n",
    "    \n",
    "    while high < len(s):\n",
    "        new_s += s[high]   # expand window to the right\n",
    "        \n",
    "        # check if current window is valid (contains all chars with counts)\n",
    "        while all(new_s.count(ch) >= t_count[ch] for ch in t_count):\n",
    "            length = high - low + 1\n",
    "            if length < min_len:\n",
    "                min_len = length\n",
    "                result = new_s\n",
    "            \n",
    "            # shrink from the left\n",
    "            new_s = new_s[1:]\n",
    "            low += 1\n",
    "        \n",
    "        high += 1\n",
    "    \n",
    "    return result\n"
   ]
  },
  {
   "cell_type": "code",
   "execution_count": 9,
   "id": "ddfbe7df",
   "metadata": {},
   "outputs": [
    {
     "data": {
      "text/plain": [
       "'BANC'"
      ]
     },
     "execution_count": 9,
     "metadata": {},
     "output_type": "execute_result"
    }
   ],
   "source": [
    "min_window(s = \"ADOBECODEBANC\", t = \"ABC\")"
   ]
  },
  {
   "cell_type": "code",
   "execution_count": 12,
   "id": "c90814b3",
   "metadata": {},
   "outputs": [
    {
     "data": {
      "text/plain": [
       "'aa'"
      ]
     },
     "execution_count": 12,
     "metadata": {},
     "output_type": "execute_result"
    }
   ],
   "source": [
    "min_window(s = \"aa\", t = \"aa\")"
   ]
  },
  {
   "cell_type": "markdown",
   "id": "58802dc6",
   "metadata": {},
   "source": [
    "## Group Anagrams"
   ]
  },
  {
   "cell_type": "code",
   "execution_count": 6,
   "id": "472f7833",
   "metadata": {},
   "outputs": [],
   "source": [
    "def Group_Anagrams(string_list:list)->list:\n",
    "    d1={}\n",
    "    for word in string_list:\n",
    "        sort_word=''.join(sorted(word))\n",
    "        \n",
    "        if sort_word in d1:\n",
    "            d1[sort_word].append(word)\n",
    "        else:\n",
    "            d1[sort_word] = [word]\n",
    "#         d1[sort_word].append(word) # Append the word to the corresponding group in the dictionary\n",
    "        print(d1)\n",
    "    return list(d1.values())"
   ]
  },
  {
   "cell_type": "code",
   "execution_count": 7,
   "id": "593e3322",
   "metadata": {},
   "outputs": [
    {
     "name": "stdout",
     "output_type": "stream",
     "text": [
      "{'aet': ['eat']}\n",
      "{'aet': ['eat', 'tea']}\n",
      "{'aet': ['eat', 'tea'], 'ant': ['tan']}\n",
      "{'aet': ['eat', 'tea', 'ate'], 'ant': ['tan']}\n",
      "{'aet': ['eat', 'tea', 'ate'], 'ant': ['tan', 'nat']}\n",
      "{'aet': ['eat', 'tea', 'ate'], 'ant': ['tan', 'nat'], 'abt': ['bat']}\n"
     ]
    },
    {
     "data": {
      "text/plain": [
       "[['eat', 'tea', 'ate'], ['tan', 'nat'], ['bat']]"
      ]
     },
     "execution_count": 7,
     "metadata": {},
     "output_type": "execute_result"
    }
   ],
   "source": [
    "Group_Anagrams([\"eat\", \"tea\", \"tan\", \"ate\", \"nat\", \"bat\"])"
   ]
  },
  {
   "cell_type": "code",
   "execution_count": 5,
   "id": "12f86c54",
   "metadata": {},
   "outputs": [],
   "source": [
    "df=pd.DataFrame({'name':'Abhi','age':24},index=[0])"
   ]
  },
  {
   "cell_type": "code",
   "execution_count": 6,
   "id": "5fecd09c",
   "metadata": {},
   "outputs": [
    {
     "data": {
      "text/html": [
       "<div>\n",
       "<style scoped>\n",
       "    .dataframe tbody tr th:only-of-type {\n",
       "        vertical-align: middle;\n",
       "    }\n",
       "\n",
       "    .dataframe tbody tr th {\n",
       "        vertical-align: top;\n",
       "    }\n",
       "\n",
       "    .dataframe thead th {\n",
       "        text-align: right;\n",
       "    }\n",
       "</style>\n",
       "<table border=\"1\" class=\"dataframe\">\n",
       "  <thead>\n",
       "    <tr style=\"text-align: right;\">\n",
       "      <th></th>\n",
       "      <th>name</th>\n",
       "      <th>age</th>\n",
       "    </tr>\n",
       "  </thead>\n",
       "  <tbody>\n",
       "    <tr>\n",
       "      <th>0</th>\n",
       "      <td>Abhi</td>\n",
       "      <td>24</td>\n",
       "    </tr>\n",
       "  </tbody>\n",
       "</table>\n",
       "</div>"
      ],
      "text/plain": [
       "   name  age\n",
       "0  Abhi   24"
      ]
     },
     "execution_count": 6,
     "metadata": {},
     "output_type": "execute_result"
    }
   ],
   "source": [
    "df"
   ]
  },
  {
   "cell_type": "code",
   "execution_count": null,
   "id": "0515c4d5",
   "metadata": {},
   "outputs": [],
   "source": [
    "df.drop_duplicates()"
   ]
  }
 ],
 "metadata": {
  "kernelspec": {
   "display_name": "Python 3 (ipykernel)",
   "language": "python",
   "name": "python3"
  },
  "language_info": {
   "codemirror_mode": {
    "name": "ipython",
    "version": 3
   },
   "file_extension": ".py",
   "mimetype": "text/x-python",
   "name": "python",
   "nbconvert_exporter": "python",
   "pygments_lexer": "ipython3",
   "version": "3.9.18"
  }
 },
 "nbformat": 4,
 "nbformat_minor": 5
}
