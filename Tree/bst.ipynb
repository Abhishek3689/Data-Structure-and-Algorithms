{
 "cells": [
  {
   "cell_type": "code",
   "execution_count": 1,
   "id": "e97307bb",
   "metadata": {},
   "outputs": [],
   "source": [
    "class Node:\n",
    "    def __init__(self,item):\n",
    "        self.left=None\n",
    "        self.right=None\n",
    "        self.item=item"
   ]
  },
  {
   "cell_type": "code",
   "execution_count": 2,
   "id": "51fd0649",
   "metadata": {},
   "outputs": [],
   "source": [
    "n1=Node(2)"
   ]
  },
  {
   "cell_type": "code",
   "execution_count": 3,
   "id": "a91d38cc",
   "metadata": {},
   "outputs": [],
   "source": [
    "class BST:\n",
    "    def __init__(self):\n",
    "        self.root=None\n",
    "        self.n=0\n",
    "        \n",
    "    def __len__(self):\n",
    "        return self.n\n",
    "    \n",
    "    def is_empty(self):\n",
    "        return self.root==None\n",
    "    \n",
    "    def insert(self,data):\n",
    "        self.root=self.rinsert(self.root,data)\n",
    "    \n",
    "    def rinsert(self,root,data):\n",
    "        if root is None:\n",
    "            self.n+=1\n",
    "            return Node(data)\n",
    "        \n",
    "        if root.item>data:\n",
    "            root.left=self.rinsert(root.left,data)\n",
    "        else:\n",
    "            root.right=self.rinsert(root.right,data)\n",
    "        return root\n",
    "    \n",
    "    def search(self,data):\n",
    "        return self.rsearch(self.root,data)\n",
    "       \n",
    "    def rsearch(self,root,data):\n",
    "        if root is None or root.item==data:\n",
    "            return root\n",
    "        if root.item>data:\n",
    "            return self.rsearch(root.left,data)\n",
    "            \n",
    "        else:\n",
    "            return self.rsearch(root.right,data)\n",
    "        \n",
    "        \n",
    "    def in_order(self):\n",
    "        res=[]\n",
    "        self.__i_order(self.root,res)\n",
    "        return res\n",
    "    \n",
    "    def __i_order(self,root,res):\n",
    "        if root is not None:\n",
    "            self.__i_order(root.left,res)\n",
    "            res.append(root.item)\n",
    "            self.__i_order(root.right,res)\n",
    "            return res\n",
    "        \n",
    "    def pre_order(self):\n",
    "        res=[]\n",
    "        self.__p_order(self.root,res)\n",
    "        return res\n",
    "    \n",
    "    def __p_order(self,root,res):\n",
    "        if root:\n",
    "            res.append(root.item)\n",
    "            self.__p_order(root.left,res)\n",
    "            self.__p_order(root.right,res)\n",
    "            return res\n",
    "        \n",
    "    def post_order(self):\n",
    "        res=[]\n",
    "        self.__po_order(self.root,res)\n",
    "        return res\n",
    "    \n",
    "    def __po_order(self,root,res):\n",
    "        if root:\n",
    "            self.__po_order(root.left,res)\n",
    "            self.__po_order(root.right,res)\n",
    "            res.append(root.item)\n",
    "            return res\n",
    "        \n",
    "    def min_value(self,temp):\n",
    "        curr=temp\n",
    "        while(curr.left!=None):\n",
    "            curr=curr.left\n",
    "        return curr.item\n",
    "    \n",
    "    def max_value(self,temp):\n",
    "        curr=temp\n",
    "        while(curr.right!=None):\n",
    "            curr=curr.right\n",
    "        return curr.item\n",
    "    \n",
    "    def delete(self,node_value):\n",
    "        self.root=self.rdelete(self.root,node_value)\n",
    "        \n",
    "    def rdelete(self,root,node_value):\n",
    "        if root is None:\n",
    "            return root\n",
    "        if root.item>node_value:\n",
    "            root.left=self.rdelete(root.left,node_value)\n",
    "        elif root.item<node_value:\n",
    "            root.right=self.rdelete(root.right,node_value)\n",
    "        else:\n",
    "            if root.left is None:\n",
    "                return root.right\n",
    "            elif root.right is None:\n",
    "                return root.left\n",
    "            max_v=self.max_value(root.left)\n",
    "            root.item=max_v\n",
    "            self.rdelete(root.left,root.item)\n",
    "        return root"
   ]
  },
  {
   "cell_type": "code",
   "execution_count": 4,
   "id": "6a9dfa15",
   "metadata": {},
   "outputs": [
    {
     "data": {
      "text/plain": [
       "(20, 10, 40, 15, 30)"
      ]
     },
     "execution_count": 4,
     "metadata": {},
     "output_type": "execute_result"
    }
   ],
   "source": [
    "20,10,40,15,30"
   ]
  },
  {
   "cell_type": "code",
   "execution_count": 5,
   "id": "af02df3f",
   "metadata": {},
   "outputs": [],
   "source": [
    "bst=BST()"
   ]
  },
  {
   "cell_type": "code",
   "execution_count": 6,
   "id": "a1c97fcc",
   "metadata": {},
   "outputs": [],
   "source": [
    "bst.insert(30)"
   ]
  },
  {
   "cell_type": "code",
   "execution_count": 7,
   "id": "07bf0a4d",
   "metadata": {},
   "outputs": [
    {
     "data": {
      "text/plain": [
       "1"
      ]
     },
     "execution_count": 7,
     "metadata": {},
     "output_type": "execute_result"
    }
   ],
   "source": [
    "len(bst)"
   ]
  },
  {
   "cell_type": "code",
   "execution_count": 8,
   "id": "38605b18",
   "metadata": {},
   "outputs": [],
   "source": [
    "bst.insert(60)\n",
    "bst.insert(10)"
   ]
  },
  {
   "cell_type": "code",
   "execution_count": 9,
   "id": "cc80a4e2",
   "metadata": {},
   "outputs": [
    {
     "data": {
      "text/plain": [
       "3"
      ]
     },
     "execution_count": 9,
     "metadata": {},
     "output_type": "execute_result"
    }
   ],
   "source": [
    "len(bst)"
   ]
  },
  {
   "cell_type": "code",
   "execution_count": 10,
   "id": "f9632431",
   "metadata": {},
   "outputs": [],
   "source": [
    "bst.search(11)"
   ]
  },
  {
   "cell_type": "code",
   "execution_count": 11,
   "id": "b0f239e1",
   "metadata": {},
   "outputs": [
    {
     "data": {
      "text/plain": [
       "[10, 30, 60]"
      ]
     },
     "execution_count": 11,
     "metadata": {},
     "output_type": "execute_result"
    }
   ],
   "source": [
    "bst.in_order()"
   ]
  },
  {
   "cell_type": "code",
   "execution_count": 12,
   "id": "9fe7bc44",
   "metadata": {},
   "outputs": [],
   "source": [
    "bst.insert(20)\n",
    "bst.insert(40)"
   ]
  },
  {
   "cell_type": "code",
   "execution_count": 13,
   "id": "89c26c5c",
   "metadata": {},
   "outputs": [
    {
     "data": {
      "text/plain": [
       "[10, 20, 30, 40, 60]"
      ]
     },
     "execution_count": 13,
     "metadata": {},
     "output_type": "execute_result"
    }
   ],
   "source": [
    "bst.in_order()"
   ]
  },
  {
   "cell_type": "code",
   "execution_count": 14,
   "id": "60920929",
   "metadata": {},
   "outputs": [
    {
     "data": {
      "text/plain": [
       "[30, 10, 20, 60, 40]"
      ]
     },
     "execution_count": 14,
     "metadata": {},
     "output_type": "execute_result"
    }
   ],
   "source": [
    "bst.pre_order()"
   ]
  },
  {
   "cell_type": "code",
   "execution_count": 15,
   "id": "5b7034c3",
   "metadata": {},
   "outputs": [
    {
     "data": {
      "text/plain": [
       "[20, 10, 40, 60, 30]"
      ]
     },
     "execution_count": 15,
     "metadata": {},
     "output_type": "execute_result"
    }
   ],
   "source": [
    "bst.post_order()"
   ]
  },
  {
   "cell_type": "code",
   "execution_count": 16,
   "id": "d2a4b953",
   "metadata": {},
   "outputs": [],
   "source": [
    "bst.delete(40)"
   ]
  },
  {
   "cell_type": "code",
   "execution_count": 17,
   "id": "105bdb6a",
   "metadata": {},
   "outputs": [],
   "source": [
    "# bst.max_value()"
   ]
  },
  {
   "cell_type": "code",
   "execution_count": 18,
   "id": "48c89d2a",
   "metadata": {},
   "outputs": [
    {
     "data": {
      "text/plain": [
       "[10, 20, 30, 60]"
      ]
     },
     "execution_count": 18,
     "metadata": {},
     "output_type": "execute_result"
    }
   ],
   "source": [
    "bst.in_order()"
   ]
  },
  {
   "cell_type": "code",
   "execution_count": null,
   "id": "cfdd301e",
   "metadata": {},
   "outputs": [],
   "source": []
  }
 ],
 "metadata": {
  "kernelspec": {
   "display_name": "Python 3 (ipykernel)",
   "language": "python",
   "name": "python3"
  },
  "language_info": {
   "codemirror_mode": {
    "name": "ipython",
    "version": 3
   },
   "file_extension": ".py",
   "mimetype": "text/x-python",
   "name": "python",
   "nbconvert_exporter": "python",
   "pygments_lexer": "ipython3",
   "version": "3.9.18"
  }
 },
 "nbformat": 4,
 "nbformat_minor": 5
}
