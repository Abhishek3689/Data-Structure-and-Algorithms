{
 "cells": [
  {
   "cell_type": "markdown",
   "id": "0f22edce",
   "metadata": {},
   "source": [
    "## BFS"
   ]
  },
  {
   "cell_type": "code",
   "execution_count": 2,
   "id": "3275c306",
   "metadata": {},
   "outputs": [],
   "source": [
    "from collections import deque"
   ]
  },
  {
   "cell_type": "code",
   "execution_count": 31,
   "id": "f6e7715e",
   "metadata": {},
   "outputs": [],
   "source": [
    "def BFS(graph,start):\n",
    "    visited=set()\n",
    "    queue=deque([start])\n",
    "    traversal=[]\n",
    "    \n",
    "    while(queue):\n",
    "        node=queue.popleft()\n",
    "        if node not in visited:\n",
    "            visited.add(node)\n",
    "            traversal.append(node)\n",
    "            \n",
    "            for neighbour in graph[node]:\n",
    "                if neighbour not in visited:\n",
    "                    queue.append(neighbour)\n",
    "                \n",
    "    return traversal"
   ]
  },
  {
   "cell_type": "code",
   "execution_count": 51,
   "id": "c625fb67",
   "metadata": {},
   "outputs": [],
   "source": [
    "graph = {\n",
    "    'A': ['C', 'B'],\n",
    "    'B': ['D', 'E'],\n",
    "    'C': ['F'],\n",
    "    'D': [],\n",
    "    'E': ['F'],\n",
    "    'F': []\n",
    "}"
   ]
  },
  {
   "cell_type": "code",
   "execution_count": 52,
   "id": "0cc8878d",
   "metadata": {},
   "outputs": [
    {
     "data": {
      "text/plain": [
       "['A', 'C', 'B', 'F', 'D', 'E']"
      ]
     },
     "execution_count": 52,
     "metadata": {},
     "output_type": "execute_result"
    }
   ],
   "source": [
    "BFS(graph,'A')"
   ]
  },
  {
   "cell_type": "markdown",
   "id": "0077d36d",
   "metadata": {},
   "source": [
    "## DFS"
   ]
  },
  {
   "cell_type": "markdown",
   "id": "ad9fe451",
   "metadata": {},
   "source": [
    "### 1st Approach using Recusrion"
   ]
  },
  {
   "cell_type": "code",
   "execution_count": 53,
   "id": "27a549dc",
   "metadata": {},
   "outputs": [],
   "source": [
    "def DFS(graph,node,visited=None):\n",
    "    if visited is None:\n",
    "        visited=set()\n",
    "        \n",
    "    visited.add(node)\n",
    "    print(node,end=' ')\n",
    "    \n",
    "    for neighbour in graph[node]:\n",
    "        if neighbour not in visited:\n",
    "            DFS(graph,neighbour,visited)"
   ]
  },
  {
   "cell_type": "code",
   "execution_count": 63,
   "id": "59f655fb",
   "metadata": {},
   "outputs": [
    {
     "name": "stdout",
     "output_type": "stream",
     "text": [
      "A B D E G C F "
     ]
    }
   ],
   "source": [
    "DFS(graph,'A')"
   ]
  },
  {
   "cell_type": "markdown",
   "id": "d4342141",
   "metadata": {},
   "source": [
    "### 2. using Stack"
   ]
  },
  {
   "cell_type": "code",
   "execution_count": 55,
   "id": "36fba322",
   "metadata": {},
   "outputs": [],
   "source": [
    "def DFS_stack(graph,node):\n",
    "    visited=set()\n",
    "    traversal=[]\n",
    "    stack=[node]\n",
    "    while(stack):\n",
    "        node=stack.pop()\n",
    "        if node not in visited:\n",
    "            traversal.append(node)\n",
    "            visited.add(node)\n",
    "\n",
    "            for neighbour in graph[node]:\n",
    "                if neighbour not in visited:\n",
    "                    stack.append(neighbour)\n",
    "    return traversal\n"
   ]
  },
  {
   "cell_type": "code",
   "execution_count": 58,
   "id": "26343923",
   "metadata": {},
   "outputs": [
    {
     "data": {
      "text/plain": [
       "['A', 'C', 'F', 'B', 'E', 'D']"
      ]
     },
     "execution_count": 58,
     "metadata": {},
     "output_type": "execute_result"
    }
   ],
   "source": [
    "DFS_stack(graph,'A')"
   ]
  },
  {
   "cell_type": "code",
   "execution_count": 61,
   "id": "292cfba7",
   "metadata": {},
   "outputs": [],
   "source": [
    "graph = {\n",
    "    'A': ['B', 'C'],\n",
    "    'B': ['D', 'E'],\n",
    "    'C': ['F'],\n",
    "    'D': [],\n",
    "    'E': ['G'],\n",
    "    'F': [],\n",
    "    'G':[]\n",
    "}"
   ]
  },
  {
   "cell_type": "code",
   "execution_count": 62,
   "id": "f73dbca5",
   "metadata": {},
   "outputs": [
    {
     "data": {
      "text/plain": [
       "['A', 'C', 'F', 'B', 'E', 'G', 'D']"
      ]
     },
     "execution_count": 62,
     "metadata": {},
     "output_type": "execute_result"
    }
   ],
   "source": [
    "DFS_stack(graph,'A')"
   ]
  },
  {
   "cell_type": "code",
   "execution_count": null,
   "id": "fbe7e101",
   "metadata": {},
   "outputs": [],
   "source": []
  }
 ],
 "metadata": {
  "kernelspec": {
   "display_name": "Python 3 (ipykernel)",
   "language": "python",
   "name": "python3"
  },
  "language_info": {
   "codemirror_mode": {
    "name": "ipython",
    "version": 3
   },
   "file_extension": ".py",
   "mimetype": "text/x-python",
   "name": "python",
   "nbconvert_exporter": "python",
   "pygments_lexer": "ipython3",
   "version": "3.9.18"
  }
 },
 "nbformat": 4,
 "nbformat_minor": 5
}
