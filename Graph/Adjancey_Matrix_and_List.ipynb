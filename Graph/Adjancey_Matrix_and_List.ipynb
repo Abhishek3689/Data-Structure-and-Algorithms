{
 "cells": [
  {
   "cell_type": "markdown",
   "id": "7313a5cb",
   "metadata": {},
   "source": [
    "## Adjanceny Matrix"
   ]
  },
  {
   "cell_type": "code",
   "execution_count": 12,
   "id": "d07a34da",
   "metadata": {},
   "outputs": [],
   "source": [
    "class Graph:\n",
    "    def __init__(self,vertex):\n",
    "        self.vertex=vertex\n",
    "        self.adj_mat=[[0]*vertex for i in range(vertex)]\n",
    "        \n",
    "    def add_edge(self,u,v,weight=1):\n",
    "        if 0<=u<self.vertex and 0<=v<self.vertex:\n",
    "            self.adj_mat[u][v]=weight\n",
    "            self.adj_mat[v][u]=weight\n",
    "        else:\n",
    "            return \"invalid Matrix\"\n",
    "        \n",
    "    def has_edge(self,u,v):\n",
    "        if 0<=u<self.vertex and 0<=v<self.vertex:\n",
    "            if self.adj_mat[u][v]!=0:\n",
    "                return True\n",
    "            else:\n",
    "                return False\n",
    "        else:\n",
    "            return \"invalid Matrix\"\n",
    "        \n",
    "    def remove_edge(self,u,v):\n",
    "        if 0<=u<self.vertex and 0<=v<self.vertex:\n",
    "            self.adj_mat[u][v]=0\n",
    "            self.adj_mat[v][u]=0\n",
    "        else:\n",
    "            return \"invalid Matrix\"\n",
    "        \n",
    "    def display_matrix(self):\n",
    "        for row_list in self.adj_mat:\n",
    "            print(\" \".join(map(str,row_list)))\n",
    "        "
   ]
  },
  {
   "cell_type": "code",
   "execution_count": 13,
   "id": "8ef79953",
   "metadata": {},
   "outputs": [],
   "source": [
    "g1=Graph(4)"
   ]
  },
  {
   "cell_type": "code",
   "execution_count": 14,
   "id": "4f2e0e04",
   "metadata": {},
   "outputs": [],
   "source": [
    "g1.add_edge(1,3)"
   ]
  },
  {
   "cell_type": "code",
   "execution_count": 15,
   "id": "5a48948f",
   "metadata": {},
   "outputs": [],
   "source": [
    "g1.add_edge(0,2)"
   ]
  },
  {
   "cell_type": "code",
   "execution_count": 16,
   "id": "e0a92a06",
   "metadata": {},
   "outputs": [],
   "source": [
    "g1.add_edge(2,2)"
   ]
  },
  {
   "cell_type": "code",
   "execution_count": 17,
   "id": "a1014aff",
   "metadata": {},
   "outputs": [
    {
     "name": "stdout",
     "output_type": "stream",
     "text": [
      "0 0 1 0\n",
      "0 0 0 1\n",
      "1 0 1 0\n",
      "0 1 0 0\n"
     ]
    }
   ],
   "source": [
    "g1.display_matrix()"
   ]
  },
  {
   "cell_type": "code",
   "execution_count": 18,
   "id": "e58bc339",
   "metadata": {},
   "outputs": [],
   "source": [
    "g1.remove_edge(2,3)"
   ]
  },
  {
   "cell_type": "markdown",
   "id": "d2157c8e",
   "metadata": {},
   "source": [
    "## Adjancey List"
   ]
  },
  {
   "cell_type": "code",
   "execution_count": 27,
   "id": "e1bc4c41",
   "metadata": {},
   "outputs": [],
   "source": [
    "class Graph_List:\n",
    "    def __init__(self,vertex):\n",
    "        self.vertex=vertex\n",
    "        self.graph_dict={}\n",
    "        \n",
    "    def add_edge(self,u,v,weight=1):\n",
    "        if 0<=u<self.vertex and 0<=v<self.vertex:\n",
    "            if u not in self.graph_dict:\n",
    "                self.graph_dict[u]=[v]\n",
    "            else:\n",
    "                self.graph_dict[u].append(v)\n",
    "            if v not in self.graph_dict:\n",
    "                self.graph_dict[v]=[u]\n",
    "            else:\n",
    "                self.graph_dict[v].append(u)\n",
    "        else:\n",
    "            return \"Invalid List\"\n",
    "        \n",
    "    def display(self):\n",
    "        for vertex, neighbors in self.graph_dict.items():\n",
    "            print(f\"{vertex} -> {neighbors}\")"
   ]
  },
  {
   "cell_type": "code",
   "execution_count": 28,
   "id": "b69ac0ab",
   "metadata": {},
   "outputs": [],
   "source": [
    "g2=Graph_List(4)"
   ]
  },
  {
   "cell_type": "code",
   "execution_count": 29,
   "id": "ab105e19",
   "metadata": {},
   "outputs": [],
   "source": [
    "g2.add_edge(1,2)"
   ]
  },
  {
   "cell_type": "code",
   "execution_count": 30,
   "id": "c47dd366",
   "metadata": {},
   "outputs": [],
   "source": [
    "g2.add_edge(3,3)"
   ]
  },
  {
   "cell_type": "code",
   "execution_count": 31,
   "id": "95f9751e",
   "metadata": {},
   "outputs": [],
   "source": [
    "g2.add_edge(0,2)"
   ]
  },
  {
   "cell_type": "code",
   "execution_count": 33,
   "id": "f0959204",
   "metadata": {},
   "outputs": [
    {
     "name": "stdout",
     "output_type": "stream",
     "text": [
      "1 -> [2]\n",
      "2 -> [1, 0]\n",
      "3 -> [3, 3]\n",
      "0 -> [2]\n"
     ]
    }
   ],
   "source": [
    "g2.display()"
   ]
  },
  {
   "cell_type": "code",
   "execution_count": 1,
   "id": "60191c18",
   "metadata": {},
   "outputs": [],
   "source": [
    "## convert adjancey matri to adjancey list\n",
    "1 1 1\n",
    "1 0 0\n",
    "1 0 1\n",
    "\n",
    "{\n",
    "    0:[0,1,2],\n",
    "    1:[0]\n",
    "    2:[0,2]\n",
    "}"
   ]
  },
  {
   "cell_type": "code",
   "execution_count": 12,
   "id": "a5411b64",
   "metadata": {},
   "outputs": [],
   "source": [
    "def convert_to_adj_list(matrix):\n",
    "    m=len(matrix)\n",
    "    n=len(matrix[0])\n",
    "    adj_list={}\n",
    "    for i in range(m):\n",
    "        for j in range(n):\n",
    "            if matrix[i][j]!=0 :\n",
    "                if i not in adj_list:\n",
    "                    adj_list[i]=[j]\n",
    "                else:\n",
    "                    adj_list[i].append(j)\n",
    "    return adj_list"
   ]
  },
  {
   "cell_type": "code",
   "execution_count": 13,
   "id": "96ab86ec",
   "metadata": {},
   "outputs": [],
   "source": [
    "matrix=[[1,1,0],\n",
    "        [1,1,0],\n",
    "        [0,0,1]]"
   ]
  },
  {
   "cell_type": "code",
   "execution_count": 14,
   "id": "bfb6fcc4",
   "metadata": {},
   "outputs": [
    {
     "data": {
      "text/plain": [
       "{0: [0, 1], 1: [0, 1], 2: [2]}"
      ]
     },
     "execution_count": 14,
     "metadata": {},
     "output_type": "execute_result"
    }
   ],
   "source": [
    "convert_to_adj_list(matrix)"
   ]
  },
  {
   "cell_type": "markdown",
   "id": "3bce5ffd",
   "metadata": {},
   "source": [
    "## Number of provinces"
   ]
  },
  {
   "cell_type": "markdown",
   "id": "c3fab1ba",
   "metadata": {},
   "source": [
    "You are given an n x n matrix isConnected where isConnected[i][j] = 1 if the ith city and the jth city are directly connected, and isConnected[i][j] = 0 otherwise.\n",
    "- Input: isConnected = [[1,1,0],[1,1,0],[0,0,1]]\n",
    "- Output: 2"
   ]
  },
  {
   "cell_type": "code",
   "execution_count": 15,
   "id": "16bdc837",
   "metadata": {},
   "outputs": [],
   "source": [
    "def is_connected(matrix):\n",
    "    n=len(matrix)\n",
    "    provinces=0\n",
    "    visited=set()\n",
    "    \n",
    "    from collections import deque\n",
    "    \n",
    "    for city in range(n):\n",
    "        if city not in visited:\n",
    "            provinces+=1\n",
    "            \n",
    "            queue=deque([city])\n",
    "            visited.add(city)\n",
    "            \n",
    "            while(queue):\n",
    "                node=queue.popleft()\n",
    "                \n",
    "                for neighbour in range(n):\n",
    "                    if matrix[node][neighbour]==1 and neighbour not in visited:\n",
    "                        visited.add(neighbour)\n",
    "                        queue.append(neighbour)\n",
    "    return provinces"
   ]
  },
  {
   "cell_type": "code",
   "execution_count": 16,
   "id": "b71a1938",
   "metadata": {},
   "outputs": [
    {
     "data": {
      "text/plain": [
       "2"
      ]
     },
     "execution_count": 16,
     "metadata": {},
     "output_type": "execute_result"
    }
   ],
   "source": [
    "is_connected(matrix)"
   ]
  },
  {
   "cell_type": "code",
   "execution_count": 17,
   "id": "f95593a7",
   "metadata": {},
   "outputs": [],
   "source": [
    "matrix=[[1,0,0],[0,1,0],[0,0,1]]"
   ]
  },
  {
   "cell_type": "code",
   "execution_count": 18,
   "id": "eac20fcc",
   "metadata": {},
   "outputs": [
    {
     "data": {
      "text/plain": [
       "3"
      ]
     },
     "execution_count": 18,
     "metadata": {},
     "output_type": "execute_result"
    }
   ],
   "source": [
    "is_connected(matrix)"
   ]
  },
  {
   "cell_type": "code",
   "execution_count": null,
   "id": "d5bfd9d3",
   "metadata": {},
   "outputs": [],
   "source": []
  }
 ],
 "metadata": {
  "kernelspec": {
   "display_name": "Python 3 (ipykernel)",
   "language": "python",
   "name": "python3"
  },
  "language_info": {
   "codemirror_mode": {
    "name": "ipython",
    "version": 3
   },
   "file_extension": ".py",
   "mimetype": "text/x-python",
   "name": "python",
   "nbconvert_exporter": "python",
   "pygments_lexer": "ipython3",
   "version": "3.9.18"
  }
 },
 "nbformat": 4,
 "nbformat_minor": 5
}
