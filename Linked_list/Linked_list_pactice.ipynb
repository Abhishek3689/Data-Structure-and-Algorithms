{
 "cells": [
  {
   "cell_type": "markdown",
   "id": "9a48d960",
   "metadata": {},
   "source": [
    "## Some Dunder methods"
   ]
  },
  {
   "cell_type": "code",
   "execution_count": 40,
   "id": "cf9013d4",
   "metadata": {},
   "outputs": [],
   "source": [
    "class calculator:\n",
    "    def __init__(self,num,den):\n",
    "        self.num=num\n",
    "        self.den=den\n",
    "        \n",
    "#     def __str__(self):\n",
    "        \n",
    "#         return f\"{self.num}/{self.den}\"\n",
    "    \n",
    "    def __add__(self,other):\n",
    "        temp_num=self.num*other.den+other.num*self.den\n",
    "        temp_den=self.den*other.den\n",
    "        return f\"{temp_num}/{temp_den}\"\n",
    "    \n",
    "    def __sub__(self,other):\n",
    "        temp_num=self.num*other.den-other.num*self.den\n",
    "        temp_den=self.den*other.den\n",
    "        return f\"{temp_num}/{temp_den}\"\n",
    "    \n",
    "    def __mul__(self,other):\n",
    "        temp_num=self.num*other.num\n",
    "        temp_den=self.den*other.den\n",
    "        return f\"{temp_num}/{temp_den}\"\n",
    "    \n",
    "    def __truediv__(self,other):\n",
    "        temp_num=self.num*other.den\n",
    "        temp_den=self.den*other.num\n",
    "        return f\"{temp_num}/{temp_den}\""
   ]
  },
  {
   "cell_type": "code",
   "execution_count": 41,
   "id": "fe9ddd20",
   "metadata": {},
   "outputs": [],
   "source": [
    "c1=calculator(2,3)"
   ]
  },
  {
   "cell_type": "code",
   "execution_count": 42,
   "id": "914f6fb3",
   "metadata": {},
   "outputs": [],
   "source": [
    "c2=calculator(4,5)"
   ]
  },
  {
   "cell_type": "code",
   "execution_count": 43,
   "id": "faa1d3df",
   "metadata": {},
   "outputs": [
    {
     "data": {
      "text/plain": [
       "'10/12'"
      ]
     },
     "execution_count": 43,
     "metadata": {},
     "output_type": "execute_result"
    }
   ],
   "source": [
    "c1/c2"
   ]
  },
  {
   "cell_type": "markdown",
   "id": "f75cbf82",
   "metadata": {},
   "source": [
    "## Linked List"
   ]
  },
  {
   "cell_type": "code",
   "execution_count": 44,
   "id": "fa137ec4",
   "metadata": {},
   "outputs": [],
   "source": [
    "class Node:\n",
    "    def __init__(self,data):\n",
    "        self.data=data\n",
    "        self.next=None\n",
    "        "
   ]
  },
  {
   "cell_type": "code",
   "execution_count": 45,
   "id": "39482f2f",
   "metadata": {},
   "outputs": [],
   "source": [
    "n1=Node(2)"
   ]
  },
  {
   "cell_type": "code",
   "execution_count": 269,
   "id": "312d695d",
   "metadata": {},
   "outputs": [],
   "source": [
    "class LinkedList:\n",
    "    def __init__(self):\n",
    "        self.head=None\n",
    "        self.n=0\n",
    "        \n",
    "    def __len__(self):\n",
    "        return self.n\n",
    "    \n",
    "    def __str__(self):\n",
    "        if self.is_empty():\n",
    "            return \"Empty Linked List\"\n",
    "        curr=self.head\n",
    "        res=''\n",
    "        while(curr!=None):\n",
    "            res=res+str(curr.data)+'->'\n",
    "            curr=curr.next\n",
    "        return res[:-2]\n",
    "    \n",
    "    def is_empty(self):\n",
    "        return self.head==None\n",
    "    \n",
    "    def insert_head(self,data):\n",
    "        new_node=Node(data)\n",
    "        new_node.next=self.head\n",
    "        self.head=new_node\n",
    "        self.n=self.n+1\n",
    "        \n",
    "    def append(self,data):\n",
    "        new_node=Node(data)\n",
    "        if self.is_empty():\n",
    "            self.insert_head(data)\n",
    "        else:\n",
    "            curr=self.head\n",
    "            while(curr.next!=None):\n",
    "                curr=curr.next\n",
    "            curr.next=new_node\n",
    "            self.n=self.n+1\n",
    "        \n",
    "    def insert_after(self,after,data):\n",
    "        if self.is_empty():\n",
    "            return \"Empty Linked List\"\n",
    "        new_node=Node(data)\n",
    "        curr=self.head\n",
    "        while(curr!=None):\n",
    "            if curr.data==after:\n",
    "                temp=curr.next\n",
    "                curr.next=new_node\n",
    "                new_node.next=temp\n",
    "                self.n=self.n+1\n",
    "                return\n",
    "            curr=curr.next\n",
    "        return \"Value not found\"\n",
    "    \n",
    "    def pop(self):\n",
    "        if self.is_empty():\n",
    "            return \"Empty Linked List\"\n",
    "        \n",
    "        curr=self.head\n",
    "        if curr.next==None:\n",
    "            val=curr.data\n",
    "            self.head=None\n",
    "            return val\n",
    "        while(curr.next.next!=None):\n",
    "            curr=curr.next\n",
    "        val=curr.next.data\n",
    "        curr.next=None\n",
    "        self.n=self.n-1\n",
    "        return val\n",
    "        \n",
    "    def remove(self,value):\n",
    "        if self.is_empty():\n",
    "            return \"Empty Linked List\"\n",
    "        curr=self.head\n",
    "        if curr.data==value:\n",
    "            self.head=self.head.next\n",
    "            self.n=self.n-1\n",
    "            return\n",
    "        while(curr.next!=None):\n",
    "            if curr.next.data==value:\n",
    "                curr.next=curr.next.next\n",
    "                self.n=self.n-1\n",
    "                return\n",
    "            curr=curr.next\n",
    "        return \"value not found\""
   ]
  },
  {
   "cell_type": "code",
   "execution_count": 270,
   "id": "796d0b83",
   "metadata": {},
   "outputs": [
    {
     "data": {
      "text/plain": [
       "[1, 2, 3, 4]"
      ]
     },
     "execution_count": 270,
     "metadata": {},
     "output_type": "execute_result"
    }
   ],
   "source": [
    "[1,2,3,4]"
   ]
  },
  {
   "cell_type": "code",
   "execution_count": 271,
   "id": "2691dc59",
   "metadata": {},
   "outputs": [],
   "source": [
    "l1=LinkedList()"
   ]
  },
  {
   "cell_type": "code",
   "execution_count": 272,
   "id": "f034c3df",
   "metadata": {},
   "outputs": [],
   "source": [
    "l1.append(14)\n",
    "l1.append(4)\n",
    "l1.append(10)"
   ]
  },
  {
   "cell_type": "code",
   "execution_count": 273,
   "id": "10e842ef",
   "metadata": {},
   "outputs": [],
   "source": [
    "l1.insert_head(56)"
   ]
  },
  {
   "cell_type": "code",
   "execution_count": 283,
   "id": "8dda5988",
   "metadata": {},
   "outputs": [
    {
     "name": "stdout",
     "output_type": "stream",
     "text": [
      "Empty Linked List\n"
     ]
    }
   ],
   "source": [
    "print(l1)"
   ]
  },
  {
   "cell_type": "code",
   "execution_count": 285,
   "id": "82beac45",
   "metadata": {},
   "outputs": [
    {
     "data": {
      "text/plain": [
       "'Empty Linked List'"
      ]
     },
     "execution_count": 285,
     "metadata": {},
     "output_type": "execute_result"
    }
   ],
   "source": [
    "l1.remove(14)"
   ]
  },
  {
   "cell_type": "code",
   "execution_count": 284,
   "id": "8ba44758",
   "metadata": {},
   "outputs": [
    {
     "data": {
      "text/plain": [
       "0"
      ]
     },
     "execution_count": 284,
     "metadata": {},
     "output_type": "execute_result"
    }
   ],
   "source": [
    "len(l1)"
   ]
  },
  {
   "cell_type": "code",
   "execution_count": null,
   "id": "c180d966",
   "metadata": {},
   "outputs": [],
   "source": []
  }
 ],
 "metadata": {
  "kernelspec": {
   "display_name": "Python 3 (ipykernel)",
   "language": "python",
   "name": "python3"
  },
  "language_info": {
   "codemirror_mode": {
    "name": "ipython",
    "version": 3
   },
   "file_extension": ".py",
   "mimetype": "text/x-python",
   "name": "python",
   "nbconvert_exporter": "python",
   "pygments_lexer": "ipython3",
   "version": "3.9.18"
  }
 },
 "nbformat": 4,
 "nbformat_minor": 5
}
