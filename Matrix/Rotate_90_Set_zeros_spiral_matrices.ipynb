{
 "cells": [
  {
   "cell_type": "markdown",
   "id": "949c56e4",
   "metadata": {},
   "source": [
    "## Set Matrix Zeroes\n",
    "- Given an m x n integer matrix matrix, if an element is 0, set its entire row and column to 0's.\n",
    "- Input: matrix = [\n",
    "- **[1,1,1]**,\n",
    "- **[1,0,1]**,\n",
    "- **[1,1,1]**]\n",
    "  \n",
    "- Output: [\n",
    "- [1,0,1],\n",
    "- [0,0,0],\n",
    "- [1,0,1]]"
   ]
  },
  {
   "cell_type": "code",
   "execution_count": 2,
   "id": "67bfabb2",
   "metadata": {},
   "outputs": [],
   "source": [
    "from typing import List"
   ]
  },
  {
   "cell_type": "markdown",
   "id": "4e970e75",
   "metadata": {},
   "source": [
    "### 1.Brute Force Approach"
   ]
  },
  {
   "cell_type": "code",
   "execution_count": 3,
   "id": "3330c275",
   "metadata": {},
   "outputs": [],
   "source": [
    "class set_matrix_zero:\n",
    "    def __init__(self,mat):\n",
    "        self.mat=mat\n",
    "        self.m=len(mat)\n",
    "        self.n=len(mat[0])\n",
    "  \n",
    "    def set_negative_ones_matrix(self):\n",
    "        for i in range(self.m):\n",
    "            for j in range(self.n):\n",
    "                if self.mat[i][j]==0:\n",
    "                    self.row_mat(i)\n",
    "                    self.col_mat(j)\n",
    "    def row_mat(self,i):\n",
    "        for j in range(self.n):\n",
    "            if self.mat[i][j]!=0:\n",
    "                self.mat[i][j]=-1\n",
    "    def col_mat(self,j):\n",
    "        for i in range(self.m):\n",
    "            if self.mat[i][j]!=0:\n",
    "                self.mat[i][j]=-1       \n",
    "    def set_zeros(self):\n",
    "         for i in range(self.m):\n",
    "            for j in range(self.n):\n",
    "                if self.mat[i][j]==-1:\n",
    "                    self.mat[i][j]=0\n",
    "    def display_matrix(self):\n",
    "        for i in range(self.m):\n",
    "            print(mat[i])\n",
    "    "
   ]
  },
  {
   "cell_type": "code",
   "execution_count": 4,
   "id": "58373070",
   "metadata": {},
   "outputs": [],
   "source": [
    "mat=[[0,1,0],[1,1,1],[1,1,1]]"
   ]
  },
  {
   "cell_type": "code",
   "execution_count": 5,
   "id": "6c514473",
   "metadata": {},
   "outputs": [],
   "source": [
    "s1=set_matrix_zero(mat)"
   ]
  },
  {
   "cell_type": "code",
   "execution_count": 6,
   "id": "208cb581",
   "metadata": {},
   "outputs": [],
   "source": [
    "s1.set_negative_ones_matrix()"
   ]
  },
  {
   "cell_type": "code",
   "execution_count": 7,
   "id": "500997a6",
   "metadata": {},
   "outputs": [],
   "source": [
    "s1.set_zeros()"
   ]
  },
  {
   "cell_type": "code",
   "execution_count": 8,
   "id": "2a4e4592",
   "metadata": {},
   "outputs": [
    {
     "name": "stdout",
     "output_type": "stream",
     "text": [
      "[0, 0, 0]\n",
      "[0, 1, 0]\n",
      "[0, 1, 0]\n"
     ]
    }
   ],
   "source": [
    "s1.display_matrix()"
   ]
  },
  {
   "cell_type": "markdown",
   "id": "e238a5e6",
   "metadata": {},
   "source": [
    "### 2.Better Approach\n"
   ]
  },
  {
   "cell_type": "code",
   "execution_count": 9,
   "id": "f7c52ee3",
   "metadata": {},
   "outputs": [],
   "source": [
    "def set_matrix_of_zeros(mat:List[List[int]]):\n",
    "    m=len(mat)\n",
    "    n=len(mat[0])\n",
    "    row_list=[0]*m\n",
    "    col_list=[0]*n\n",
    "    for i in range(m):\n",
    "        for j in range(n):\n",
    "            if mat[i][j]==0:\n",
    "                row_list[i]=1\n",
    "                col_list[j]=1\n",
    "    for i in range(m):\n",
    "        for j in range(n):\n",
    "            if row_list[i]==1 or col_list[j]==1:\n",
    "                mat[i][j]=0\n",
    "    for i in range(m):\n",
    "        print(mat[i])\n",
    "        "
   ]
  },
  {
   "cell_type": "code",
   "execution_count": 10,
   "id": "cc73e696",
   "metadata": {},
   "outputs": [],
   "source": [
    "mat=[[0,1,0],\n",
    "     [1,1,1],\n",
    "     [0,1,1]]"
   ]
  },
  {
   "cell_type": "code",
   "execution_count": 11,
   "id": "78e667c1",
   "metadata": {},
   "outputs": [
    {
     "name": "stdout",
     "output_type": "stream",
     "text": [
      "[0, 0, 0]\n",
      "[0, 1, 0]\n",
      "[0, 0, 0]\n"
     ]
    }
   ],
   "source": [
    "set_matrix_of_zeros(mat)"
   ]
  },
  {
   "cell_type": "markdown",
   "id": "794ae124",
   "metadata": {},
   "source": [
    "## Rotate matrix by 90 degree\n",
    "- You are given an n x n 2D matrix representing an image, rotate the image by 90 degrees (clockwise)."
   ]
  },
  {
   "cell_type": "markdown",
   "id": "c94c54aa",
   "metadata": {},
   "source": [
    "Input: matrix = \n",
    "- [[1,2,3],\n",
    "- [4,5,6],\n",
    "- [7,8,9]]\n",
    "\n",
    "Output: [\n",
    "- [7,4,1],\n",
    "- [8,5,2],\n",
    "- [9,6,3]]"
   ]
  },
  {
   "cell_type": "code",
   "execution_count": 12,
   "id": "9c68bf36",
   "metadata": {},
   "outputs": [],
   "source": [
    "def rotate_matrix(mat:List[List[int]]):\n",
    "    n=len(mat)\n",
    "    \n",
    "    ## transpose the matrix first\n",
    "    for i in range(n):\n",
    "        for j in range(i+1,n):\n",
    "            mat[i][j],mat[j][i]=mat[j][i],mat[i][j]\n",
    "            \n",
    "    ## reverse each row\n",
    "    for i in range(n):\n",
    "        mat[i].reverse()\n",
    "            \n",
    "    for i in range(n):\n",
    "        print(mat[i])\n",
    "            \n",
    "        "
   ]
  },
  {
   "cell_type": "code",
   "execution_count": 13,
   "id": "6e9e5db1",
   "metadata": {},
   "outputs": [],
   "source": [
    "matrix= [[1,2,3],\n",
    "         [4,5,6],\n",
    "         [7,8,9]]"
   ]
  },
  {
   "cell_type": "code",
   "execution_count": 14,
   "id": "771881aa",
   "metadata": {},
   "outputs": [
    {
     "name": "stdout",
     "output_type": "stream",
     "text": [
      "[7, 4, 1]\n",
      "[8, 5, 2]\n",
      "[9, 6, 3]\n"
     ]
    }
   ],
   "source": [
    "rotate_matrix(matrix)"
   ]
  },
  {
   "cell_type": "markdown",
   "id": "3df2b870",
   "metadata": {},
   "source": [
    "## Spiral Matrix"
   ]
  },
  {
   "cell_type": "code",
   "execution_count": 122,
   "id": "c8444324",
   "metadata": {},
   "outputs": [],
   "source": [
    "## This is valid for sqaure matrix but failed in non sqaure\n",
    "def spiral_matrix(mat:List[List[int]]):\n",
    "    top=left=0\n",
    "    bottom=len(mat)-1\n",
    "    right=len(mat[0])-1\n",
    "    res_list=[]\n",
    "    while(left<=right and top<=bottom):\n",
    "        for i in range(left,right+1):\n",
    "            res_list.append(mat[top][i])\n",
    "        top+=1\n",
    "        for j in range(top,bottom+1):\n",
    "            res_list.append(mat[j][right])\n",
    "        right-=1\n",
    "        for k in range(right,left-1,-1):\n",
    "            res_list.append(mat[bottom][k])\n",
    "        bottom-=1\n",
    "        for l in range(bottom,top-1,-1):\n",
    "            res_list.append(mat[l][left])\n",
    "        left+=1\n",
    "    return res_list"
   ]
  },
  {
   "cell_type": "code",
   "execution_count": 109,
   "id": "b25236c2",
   "metadata": {},
   "outputs": [
    {
     "data": {
      "text/plain": [
       "[1, 2, 3, 6, 9, 8, 7, 4, 5]"
      ]
     },
     "execution_count": 109,
     "metadata": {},
     "output_type": "execute_result"
    }
   ],
   "source": [
    "spiral_matrix(matrix)"
   ]
  },
  {
   "cell_type": "code",
   "execution_count": 118,
   "id": "36cbe7ab",
   "metadata": {},
   "outputs": [],
   "source": [
    "matrix = [[1,2,3,4],\n",
    "          [5,6,7,8],\n",
    "          [9,10,11,12]]"
   ]
  },
  {
   "cell_type": "code",
   "execution_count": 111,
   "id": "4e280ad9",
   "metadata": {},
   "outputs": [
    {
     "data": {
      "text/plain": [
       "[1, 2, 3, 4, 8, 12, 11, 10, 9, 5, 6, 7, 6]"
      ]
     },
     "execution_count": 111,
     "metadata": {},
     "output_type": "execute_result"
    }
   ],
   "source": [
    "spiral_matrix(matrix)"
   ]
  },
  {
   "cell_type": "code",
   "execution_count": 112,
   "id": "f70d2b6b",
   "metadata": {},
   "outputs": [],
   "source": [
    "mat = [\n",
    "    [1, 2, 3, 4],\n",
    "    [5, 6, 7, 8],\n",
    "    [9, 10, 11, 12],\n",
    "    [13, 14, 15, 16]\n",
    "]"
   ]
  },
  {
   "cell_type": "code",
   "execution_count": 113,
   "id": "596b1bba",
   "metadata": {},
   "outputs": [
    {
     "data": {
      "text/plain": [
       "[1, 2, 3, 4, 8, 12, 16, 15, 14, 13, 9, 5, 6, 7, 11, 10]"
      ]
     },
     "execution_count": 113,
     "metadata": {},
     "output_type": "execute_result"
    }
   ],
   "source": [
    "spiral_matrix(mat)"
   ]
  },
  {
   "cell_type": "markdown",
   "id": "3c093a35",
   "metadata": {},
   "source": [
    "### Revisd spiral\n",
    "- Above is correct if its a sqaure matric but if its mXn then ther can be issue so check the codition"
   ]
  },
  {
   "cell_type": "code",
   "execution_count": 120,
   "id": "6ff547e4",
   "metadata": {},
   "outputs": [],
   "source": [
    "def spiral_matrix_revised(mat:List[List[int]]):\n",
    "    top=left=0\n",
    "    bottom=len(mat)-1\n",
    "    right=len(mat[0])-1\n",
    "    res_list=[]\n",
    "    while(left<=right and top<=bottom):\n",
    "        for i in range(left,right+1):\n",
    "            res_list.append(mat[top][i])\n",
    "        top+=1\n",
    "        if top<=bottom:\n",
    "            for j in range(top,bottom+1):\n",
    "                res_list.append(mat[j][right])\n",
    "            right-=1\n",
    "        if left<=right and top<=bottom:\n",
    "            for k in range(right,left-1,-1):\n",
    "                res_list.append(mat[bottom][k])\n",
    "            bottom-=1\n",
    "        if top<=bottom and left<=right:\n",
    "            for l in range(bottom,top-1,-1):\n",
    "                res_list.append(mat[l][left])\n",
    "            left+=1\n",
    "    return res_list"
   ]
  },
  {
   "cell_type": "code",
   "execution_count": 121,
   "id": "4022b2ab",
   "metadata": {},
   "outputs": [
    {
     "data": {
      "text/plain": [
       "[1, 2, 3, 4, 8, 12, 11, 10, 9, 5, 6, 7]"
      ]
     },
     "execution_count": 121,
     "metadata": {},
     "output_type": "execute_result"
    }
   ],
   "source": [
    "spiral_matrix_revised(matrix)"
   ]
  },
  {
   "cell_type": "markdown",
   "id": "a1c07703",
   "metadata": {},
   "source": [
    "## Spiral Matrix Generation"
   ]
  },
  {
   "cell_type": "markdown",
   "id": "00460bd1",
   "metadata": {},
   "source": [
    "- Given a positive integer n, generate an n x n matrix filled with elements from 1 to n2 in spiral order.\n",
    "- Input: n = 3\n",
    "- Output: \n",
    "- [1,2,3],\n",
    "- [8,9,4],\n",
    "- [7,6,5]]"
   ]
  },
  {
   "cell_type": "code",
   "execution_count": 146,
   "id": "7f291fd1",
   "metadata": {},
   "outputs": [],
   "source": [
    "def Generate_spiral(n:int):\n",
    "    mat=[[0]*n for i in range(n)]\n",
    "    left=top=0\n",
    "    right=n-1\n",
    "    bottom=n-1\n",
    "    num=1\n",
    "    while(left<=right and top<=bottom):\n",
    "        for i in range(left,right+1):\n",
    "            mat[top][i]=num\n",
    "            num=num+1\n",
    "        top+=1\n",
    "        if top<=bottom:\n",
    "            for i in range(top,bottom+1):\n",
    "                mat[i][right]=num\n",
    "                num=num+1\n",
    "            right-=1\n",
    "        if left<=right and top<=bottom:\n",
    "            for i in range(right,left-1,-1):\n",
    "                mat[bottom][i]=num\n",
    "                num=num+1\n",
    "            bottom-=1\n",
    "          \n",
    "        if top<=bottom and left<=right:\n",
    "            for i in range(bottom,top-1,-1):\n",
    "                mat[i][left]=num\n",
    "                num=num+1\n",
    "            left+=1\n",
    "\n",
    "    for i in range(n):\n",
    "        print(mat[i])\n",
    "                "
   ]
  },
  {
   "cell_type": "code",
   "execution_count": 147,
   "id": "7ecb3ca7",
   "metadata": {},
   "outputs": [
    {
     "name": "stdout",
     "output_type": "stream",
     "text": [
      "left:1,right:2,top:1,bottom:2\n",
      "left:1,right:1,top:2,bottom:1\n",
      "[1, 2, 3, 4]\n",
      "[12, 13, 14, 5]\n",
      "[11, 16, 15, 6]\n",
      "[10, 9, 8, 7]\n"
     ]
    }
   ],
   "source": [
    "Generate_spiral(4)"
   ]
  },
  {
   "cell_type": "code",
   "execution_count": null,
   "id": "7ca3c2f4",
   "metadata": {},
   "outputs": [],
   "source": []
  }
 ],
 "metadata": {
  "kernelspec": {
   "display_name": "Python 3 (ipykernel)",
   "language": "python",
   "name": "python3"
  },
  "language_info": {
   "codemirror_mode": {
    "name": "ipython",
    "version": 3
   },
   "file_extension": ".py",
   "mimetype": "text/x-python",
   "name": "python",
   "nbconvert_exporter": "python",
   "pygments_lexer": "ipython3",
   "version": "3.9.18"
  }
 },
 "nbformat": 4,
 "nbformat_minor": 5
}
